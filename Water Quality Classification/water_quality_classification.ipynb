{
 "cells": [
  {
   "cell_type": "markdown",
   "metadata": {
    "id": "avL9n6NxMjKv"
   },
   "source": [
    "# Building ML models on Water Quality Classification for Human Consumption \n",
    "<h3>Activities</h3>\n",
    "<ol type=\"1\">\n",
    "  <li> Data preparation \n",
    "     <ul> \n",
    "         <li>Data collection and loading</li>\n",
    "        <li> Understanding the variables </li>\n",
    "      </ul>\n",
    "    </li>\n",
    "    <li>Data pre-processing\n",
    "        <ul>\n",
    "             <li> Checking nan values  </li>\n",
    "             <li> detecting outliers </li> \n",
    "             <li> checking duplicates </li>\n",
    "             <li> Label encoding or scaling </li>  \n",
    "         </ul>\n",
    "    </li>\n",
    "    <li> Exploratory Data analysis(EDA) </li>\n",
    "    <li> Feature selection </li>\n",
    "    <li> Supervised Learning\n",
    "         <ul>\n",
    "            <li> Logistic regression  </li>\n",
    "            <li>  KNN </li>\n",
    "            <li> Random Forest  </li>\n",
    "         </ul>\n",
    "    </li>\n",
    "    <li> Supervised Learning\n",
    "          <ul>\n",
    "            <li> K-means Clustering  </li>\n",
    "         </ul>\n",
    "     </li> \n",
    "    \n",
    "<li> Communicating the insights </li>\n",
    "</ol>"
   ]
  },
  {
   "cell_type": "code",
   "execution_count": null,
   "metadata": {
    "id": "blcz4W5rMvFS"
   },
   "outputs": [
    {
     "ename": "ModuleNotFoundError",
     "evalue": "No module named 'yellowbrick'",
     "output_type": "error",
     "traceback": [
      "\u001b[1;31m---------------------------------------------------------------------------\u001b[0m",
      "\u001b[1;31mModuleNotFoundError\u001b[0m                       Traceback (most recent call last)",
      "Input \u001b[1;32mIn [3]\u001b[0m, in \u001b[0;36m<cell line: 45>\u001b[1;34m()\u001b[0m\n\u001b[0;32m     41\u001b[0m \u001b[38;5;28;01mfrom\u001b[39;00m \u001b[38;5;21;01msklearn\u001b[39;00m\u001b[38;5;21;01m.\u001b[39;00m\u001b[38;5;21;01mmetrics\u001b[39;00m \u001b[38;5;28;01mimport\u001b[39;00m silhouette_score \u001b[38;5;66;03m# used as a metric to evaluate the cohesion in a cluster\u001b[39;00m\n\u001b[0;32m     42\u001b[0m \u001b[38;5;28;01mfrom\u001b[39;00m \u001b[38;5;21;01msklearn\u001b[39;00m\u001b[38;5;21;01m.\u001b[39;00m\u001b[38;5;21;01mmetrics\u001b[39;00m \u001b[38;5;28;01mimport\u001b[39;00m v_measure_score\n\u001b[1;32m---> 45\u001b[0m \u001b[38;5;28;01mfrom\u001b[39;00m \u001b[38;5;21;01myellowbrick\u001b[39;00m\u001b[38;5;21;01m.\u001b[39;00m\u001b[38;5;21;01mcluster\u001b[39;00m \u001b[38;5;28;01mimport\u001b[39;00m SilhouetteVisualizer\n\u001b[0;32m     46\u001b[0m \u001b[38;5;28;01mfrom\u001b[39;00m \u001b[38;5;21;01myellowbrick\u001b[39;00m\u001b[38;5;21;01m.\u001b[39;00m\u001b[38;5;21;01mcluster\u001b[39;00m \u001b[38;5;28;01mimport\u001b[39;00m KElbowVisualizer\n\u001b[0;32m     48\u001b[0m \u001b[38;5;66;03m#for ignoring warnings\u001b[39;00m\n",
      "\u001b[1;31mModuleNotFoundError\u001b[0m: No module named 'yellowbrick'"
     ]
    }
   ],
   "source": [
    "#for data loading, assembly, manipulation, and exploration.\n",
    "import pandas as pd\n",
    "import numpy as np\n",
    "\n",
    "#for visualization\n",
    "import matplotlib.pyplot as plt\n",
    "import seaborn as sns\n",
    "\n",
    "#for model fitting\n",
    "from sklearn.ensemble import RandomForestClassifier #ensemble model\n",
    "from sklearn.linear_model import LogisticRegression\n",
    "from sklearn.neighbors import KNeighborsClassifier   # KNN regression model  \n",
    "from sklearn.ensemble import RandomForestClassifier\n",
    "from sklearn.cluster import KMeans\n",
    "\n",
    "\n",
    "from sklearn.model_selection import train_test_split\n",
    "\n",
    "#for model evaluation metrics \n",
    "from sklearn.metrics import precision_score, recall_score, f1_score\n",
    "\n",
    "#for preprocessing( data transformation)\n",
    "# for preprocessing \n",
    "from sklearn.preprocessing import LabelEncoder, StandardScaler\n",
    "\n",
    "#for model selection\n",
    "from sklearn.model_selection import train_test_split  #training and testing\n",
    "from sklearn.model_selection import KFold, cross_val_score     # cross-validation\n",
    "\n",
    "#for generating metrics for model evaluation\n",
    "from sklearn.metrics import confusion_matrix, classification_report #evaluation \n",
    "from sklearn.metrics import accuracy_score\n",
    "from sklearn.metrics import mean_squared_error\n",
    "\n",
    "#for statistical models used in feature selection\n",
    "import statsmodels.api as sm\n",
    "\n",
    "#Unsupervised Learning Criterion\n",
    "\n",
    "from sklearn.cluster import KMeans, DBSCAN # clustering algorithms\n",
    "from sklearn.metrics import silhouette_score # used as a metric to evaluate the cohesion in a cluster\n",
    "from sklearn.metrics import v_measure_score\n",
    "\n",
    "\n",
    "from yellowbrick.cluster import SilhouetteVisualizer\n",
    "from yellowbrick.cluster import KElbowVisualizer\n",
    "\n",
    "#for ignoring warnings\n",
    "import warnings\n",
    "warnings.filterwarnings(\"ignore\")"
   ]
  },
  {
   "cell_type": "markdown",
   "metadata": {
    "id": "9o0t7955q_Tb"
   },
   "source": [
    "# SUPERVISED LEARNING"
   ]
  },
  {
   "cell_type": "markdown",
   "metadata": {
    "id": "NcfRKDYVU0A9"
   },
   "source": [
    "## **Data preparation**"
   ]
  },
  {
   "cell_type": "code",
   "execution_count": 2,
   "metadata": {
    "colab": {
     "base_uri": "https://localhost:8080/",
     "height": 485
    },
    "id": "VnXzxaZ7HwO1",
    "outputId": "6dfe3176-e859-4f57-c7ed-bb0eb373aeeb"
   },
   "outputs": [
    {
     "name": "stderr",
     "output_type": "stream",
     "text": [
      "C:\\Users\\joshu\\AppData\\Local\\Temp\\ipykernel_28132\\3848898702.py:3: DtypeWarning: Columns (7) have mixed types. Specify dtype option on import or set low_memory=False.\n",
      "  water_quality_df = pd.read_csv(\"water quality data.csv\")\n"
     ]
    },
    {
     "data": {
      "text/html": [
       "<div>\n",
       "<style scoped>\n",
       "    .dataframe tbody tr th:only-of-type {\n",
       "        vertical-align: middle;\n",
       "    }\n",
       "\n",
       "    .dataframe tbody tr th {\n",
       "        vertical-align: top;\n",
       "    }\n",
       "\n",
       "    .dataframe thead th {\n",
       "        text-align: right;\n",
       "    }\n",
       "</style>\n",
       "<table border=\"1\" class=\"dataframe\">\n",
       "  <thead>\n",
       "    <tr style=\"text-align: right;\">\n",
       "      <th></th>\n",
       "      <th>Sample Number</th>\n",
       "      <th>Sample Date</th>\n",
       "      <th>Sample Time</th>\n",
       "      <th>Sample Site</th>\n",
       "      <th>Sample class</th>\n",
       "      <th>Residual Free Chlorine (mg/L)</th>\n",
       "      <th>Turbidity (NTU)</th>\n",
       "      <th>Fluoride (mg/L)</th>\n",
       "      <th>Coliform (Quanti-Tray) (MPN /100mL)</th>\n",
       "      <th>E.coli(Quanti-Tray) (MPN/100mL)</th>\n",
       "    </tr>\n",
       "  </thead>\n",
       "  <tbody>\n",
       "    <tr>\n",
       "      <th>0</th>\n",
       "      <td>202120243</td>\n",
       "      <td>07/01/2021</td>\n",
       "      <td>10:31</td>\n",
       "      <td>23650</td>\n",
       "      <td>Compliance</td>\n",
       "      <td>0.22</td>\n",
       "      <td>0.84</td>\n",
       "      <td>NaN</td>\n",
       "      <td>&lt;1</td>\n",
       "      <td>&lt;1</td>\n",
       "    </tr>\n",
       "    <tr>\n",
       "      <th>1</th>\n",
       "      <td>202120244</td>\n",
       "      <td>07/01/2021</td>\n",
       "      <td>09:54</td>\n",
       "      <td>29550</td>\n",
       "      <td>Compliance</td>\n",
       "      <td>0.69</td>\n",
       "      <td>0.81</td>\n",
       "      <td>NaN</td>\n",
       "      <td>&lt;1</td>\n",
       "      <td>&lt;1</td>\n",
       "    </tr>\n",
       "    <tr>\n",
       "      <th>2</th>\n",
       "      <td>202120245</td>\n",
       "      <td>07/01/2021</td>\n",
       "      <td>07:52</td>\n",
       "      <td>50200</td>\n",
       "      <td>Operational</td>\n",
       "      <td>0.55</td>\n",
       "      <td>0.77</td>\n",
       "      <td>NaN</td>\n",
       "      <td>&lt;1</td>\n",
       "      <td>&lt;1</td>\n",
       "    </tr>\n",
       "    <tr>\n",
       "      <th>3</th>\n",
       "      <td>202120246</td>\n",
       "      <td>07/01/2021</td>\n",
       "      <td>08:12</td>\n",
       "      <td>50250</td>\n",
       "      <td>Compliance</td>\n",
       "      <td>0.87</td>\n",
       "      <td>0.81</td>\n",
       "      <td>NaN</td>\n",
       "      <td>&lt;1</td>\n",
       "      <td>&lt;1</td>\n",
       "    </tr>\n",
       "    <tr>\n",
       "      <th>4</th>\n",
       "      <td>202120247</td>\n",
       "      <td>07/01/2021</td>\n",
       "      <td>08:31</td>\n",
       "      <td>50300</td>\n",
       "      <td>Operational</td>\n",
       "      <td>0.80</td>\n",
       "      <td>0.84</td>\n",
       "      <td>NaN</td>\n",
       "      <td>&lt;1</td>\n",
       "      <td>&lt;1</td>\n",
       "    </tr>\n",
       "    <tr>\n",
       "      <th>...</th>\n",
       "      <td>...</td>\n",
       "      <td>...</td>\n",
       "      <td>...</td>\n",
       "      <td>...</td>\n",
       "      <td>...</td>\n",
       "      <td>...</td>\n",
       "      <td>...</td>\n",
       "      <td>...</td>\n",
       "      <td>...</td>\n",
       "      <td>...</td>\n",
       "    </tr>\n",
       "    <tr>\n",
       "      <th>122476</th>\n",
       "      <td>202236619</td>\n",
       "      <td>12/31/2022</td>\n",
       "      <td>11:13</td>\n",
       "      <td>31550</td>\n",
       "      <td>Compliance</td>\n",
       "      <td>0.24</td>\n",
       "      <td>0.89</td>\n",
       "      <td>NaN</td>\n",
       "      <td>&lt;1</td>\n",
       "      <td>&lt;1</td>\n",
       "    </tr>\n",
       "    <tr>\n",
       "      <th>122477</th>\n",
       "      <td>202236620</td>\n",
       "      <td>12/31/2022</td>\n",
       "      <td>10:50</td>\n",
       "      <td>31750</td>\n",
       "      <td>Compliance</td>\n",
       "      <td>0.44</td>\n",
       "      <td>1.1</td>\n",
       "      <td>NaN</td>\n",
       "      <td>&lt;1</td>\n",
       "      <td>&lt;1</td>\n",
       "    </tr>\n",
       "    <tr>\n",
       "      <th>122478</th>\n",
       "      <td>202236621</td>\n",
       "      <td>12/31/2022</td>\n",
       "      <td>08:00</td>\n",
       "      <td>34650</td>\n",
       "      <td>Compliance</td>\n",
       "      <td>0.33</td>\n",
       "      <td>0.89</td>\n",
       "      <td>NaN</td>\n",
       "      <td>&lt;1</td>\n",
       "      <td>&lt;1</td>\n",
       "    </tr>\n",
       "    <tr>\n",
       "      <th>122479</th>\n",
       "      <td>202236622</td>\n",
       "      <td>12/31/2022</td>\n",
       "      <td>10:12</td>\n",
       "      <td>39950</td>\n",
       "      <td>Compliance</td>\n",
       "      <td>0.52</td>\n",
       "      <td>1.0</td>\n",
       "      <td>NaN</td>\n",
       "      <td>&lt;1</td>\n",
       "      <td>&lt;1</td>\n",
       "    </tr>\n",
       "    <tr>\n",
       "      <th>122480</th>\n",
       "      <td>202236623</td>\n",
       "      <td>12/31/2022</td>\n",
       "      <td>08:47</td>\n",
       "      <td>3SC26</td>\n",
       "      <td>Operational</td>\n",
       "      <td>0.56</td>\n",
       "      <td>0.96</td>\n",
       "      <td>NaN</td>\n",
       "      <td>&lt;1</td>\n",
       "      <td>&lt;1</td>\n",
       "    </tr>\n",
       "  </tbody>\n",
       "</table>\n",
       "<p>122481 rows × 10 columns</p>\n",
       "</div>"
      ],
      "text/plain": [
       "        Sample Number Sample Date Sample Time Sample Site Sample class  \\\n",
       "0           202120243  07/01/2021       10:31       23650   Compliance   \n",
       "1           202120244  07/01/2021       09:54       29550   Compliance   \n",
       "2           202120245  07/01/2021       07:52       50200  Operational   \n",
       "3           202120246  07/01/2021       08:12       50250   Compliance   \n",
       "4           202120247  07/01/2021       08:31       50300  Operational   \n",
       "...               ...         ...         ...         ...          ...   \n",
       "122476      202236619  12/31/2022       11:13       31550   Compliance   \n",
       "122477      202236620  12/31/2022       10:50       31750   Compliance   \n",
       "122478      202236621  12/31/2022       08:00       34650   Compliance   \n",
       "122479      202236622  12/31/2022       10:12       39950   Compliance   \n",
       "122480      202236623  12/31/2022       08:47       3SC26  Operational   \n",
       "\n",
       "        Residual Free Chlorine (mg/L) Turbidity (NTU) Fluoride (mg/L)  \\\n",
       "0                                0.22            0.84             NaN   \n",
       "1                                0.69            0.81             NaN   \n",
       "2                                0.55            0.77             NaN   \n",
       "3                                0.87            0.81             NaN   \n",
       "4                                0.80            0.84             NaN   \n",
       "...                               ...             ...             ...   \n",
       "122476                           0.24            0.89             NaN   \n",
       "122477                           0.44             1.1             NaN   \n",
       "122478                           0.33            0.89             NaN   \n",
       "122479                           0.52             1.0             NaN   \n",
       "122480                           0.56            0.96             NaN   \n",
       "\n",
       "       Coliform (Quanti-Tray) (MPN /100mL) E.coli(Quanti-Tray) (MPN/100mL)  \n",
       "0                                       <1                              <1  \n",
       "1                                       <1                              <1  \n",
       "2                                       <1                              <1  \n",
       "3                                       <1                              <1  \n",
       "4                                       <1                              <1  \n",
       "...                                    ...                             ...  \n",
       "122476                                  <1                              <1  \n",
       "122477                                  <1                              <1  \n",
       "122478                                  <1                              <1  \n",
       "122479                                  <1                              <1  \n",
       "122480                                  <1                              <1  \n",
       "\n",
       "[122481 rows x 10 columns]"
      ]
     },
     "execution_count": 2,
     "metadata": {},
     "output_type": "execute_result"
    }
   ],
   "source": [
    "# Reading in the provided data. The data was downloaded from the New York Open Data Website.\n",
    "\n",
    "water_quality_df = pd.read_csv(\"water quality data.csv\")\n",
    "water_quality_df"
   ]
  },
  {
   "cell_type": "code",
   "execution_count": 4,
   "metadata": {
    "colab": {
     "base_uri": "https://localhost:8080/"
    },
    "id": "CTDeIk-2Vk2R",
    "outputId": "11e7756d-c1d0-40d5-acf7-dd81a621c32a"
   },
   "outputs": [
    {
     "data": {
      "text/plain": [
       "array(['<1', '1', '11.1', '165.2', '3.1', '2', '>200.5', '27.1', '144.5',\n",
       "       '13.7', '5.3', '50.4', '69.7', '83.1', '101.3', '30.6', '4.2',\n",
       "       '36.4', '6.4', '12.4', '65.9', '200.5', '40.6', '59.1', '42.9',\n",
       "       nan, '7.5', '16.4', '9.9', '25.4', '20.7', '19.2', '17.8', '23.8',\n",
       "       '88.5', '73.8', '45.3', '118.4', '22.2', '8.7', '62.4', '34.4',\n",
       "       '15', '28.8', '78.2', '129.8', '47.8'], dtype=object)"
      ]
     },
     "execution_count": 4,
     "metadata": {},
     "output_type": "execute_result"
    }
   ],
   "source": [
    "water_quality_df['Coliform (Quanti-Tray) (MPN /100mL)'].unique()"
   ]
  },
  {
   "cell_type": "code",
   "execution_count": 5,
   "metadata": {
    "colab": {
     "base_uri": "https://localhost:8080/"
    },
    "id": "8mahOO1LfoWR",
    "outputId": "33177125-f124-43a1-e2f2-36ed555128a8"
   },
   "outputs": [
    {
     "data": {
      "text/plain": [
       "array(['0.84', '0.81', '0.77', '0.82', '0.78', '0.71', '0.76', '0.69',\n",
       "       '0.74', '0.67', '3.89', '0.72', '0.79', '0.97', '0.18', '0.12',\n",
       "       '0.33', '0.27', '0.14', '0.91', '0.8', '0.83', '0.93', '0.75',\n",
       "       '0.63', '0.68', '0.64', '0.73', '0.66', '0.61', '0.7', '0.65',\n",
       "       '0.52', '0.58', '0.1', '0.62', '0.6', '0.59', '0.54', '0.57',\n",
       "       '0.11', '0.56', '0.55', '1.23', '0.13', '0.87', '<0.10', '0.88',\n",
       "       '0.85', '0.2', '0.86', '0.15', '0.92', '1', '0.96', '0.94', '0.19',\n",
       "       '0.89', '0.16', '1.21', '0.95', '0.44', '0.38', '0.98', '0.22',\n",
       "       '0.53', '0.3', '4.58', '1.1', '0.29', '1.29', '0.4', '1.67',\n",
       "       '0.25', '0.21', '0.26', '0.17', '0.5', '0.51', '1.4', '0.45',\n",
       "       '0.47', '0.49', '0.46', '0.48', '0.24', '1.28', '0.42', '0.41',\n",
       "       '0.43', '0.23', '0.39', '0.28', '0.35', '1.2', '0.32', '5.68',\n",
       "       '1.18', '0.99', '1.02', '0.9', '1.46', '1.17', '1.01', '1.07',\n",
       "       '1.19', '2.62', '1.06', '1.04', '0.31', '1.03', '1.09', '1.26',\n",
       "       '1.42', '1.15', '3.46', '0.37', '0.36', '0.34', '1.08', '1.05',\n",
       "       '4.06', '1.35', '1.22', '1.24', '1.13', '0.60', '1.11', '1.16',\n",
       "       '1.27', '1.73', '1.52', '1.49', '1.41', '1.63', '1.61', '2.18',\n",
       "       '1.14', '1.32', '1.5', '1.74', '2.2', '1.36', '1.39', '2', '1.68',\n",
       "       '1.0', '1.58', '1.37', '3.42', '1.96', '1.25', '1.33', '1.43',\n",
       "       '1.55', '1.31', '1.45', '1.54', '1.34', '1.3', '1.47', '1.38',\n",
       "       '1.97', '1.12', '2.21', '1.62', '1.51', '1.81', '1.57', '1.48',\n",
       "       '1.44', '0.90', '1.6', '0.80', '0.70', '1.9', '1.8', '2.4', '1.7',\n",
       "       '0.30', '0.10', '2.6', '3.6', '1.56', '1.99', '1.91', '1.53',\n",
       "       '1.83', '1.88', '4.36', '2.63', '2.04', '1.78', '1.92', '1.69',\n",
       "       '5.5', '2.02', '2.26', '1.72', '1.86', '1.71', '2.24', '2.76',\n",
       "       '1.85', '1.84', '5.17', '1.93', '0.834', '0.674', '0.739', '0.305',\n",
       "       '0.772', '0.999', '0.769', '0.304', '0.347', '0.731', '0.691',\n",
       "       '0.629', '0.644', '0.634', '0.715', '0.649', '0.638', '0.671',\n",
       "       '0.728', '0.209', '0.619', '0.455', '0.617', '0.726', '0.663',\n",
       "       '0.463', '0.552', '0.144', '0.697', '0.707', '0.544', '0.843',\n",
       "       '0.709', '0.603', '0.659', '0.664', '0.685', '0.599', '0.669',\n",
       "       '0.706', '0.702', '0.734', '0.727', '0.795', '0.684', '0.222',\n",
       "       '0.714', '0.703', '0.637', '0.249', '0.221', '0.628', '0.542',\n",
       "       '0.732', '0.624', '0.768', '0.609', '0.615', '0.251', '0.148',\n",
       "       '0.602', '0.557', '0.721', '0.793', '0.575', '0.762', '0.641',\n",
       "       '0.636', '0.711', '0.653', '0.704', '1.79', '0.821', '0.854',\n",
       "       '0.741', '0.243', '0.967', '0.773', '0.825', '0.778', '0.524',\n",
       "       '0.667', '0.736', '0.658', '1.65', '2.92', '2.45', '3.94', '6.04',\n",
       "       '2.39', '2.53', '2.51', '3.29', '3.53', '1.95', '2.22', '2.71',\n",
       "       '2.98', '1.77', '2.14', '2.86', '3.1', '3.67', '5.35', '4.42',\n",
       "       '2.5', '3.35', '1.66', '2.31', '3.12', '3.06', '27.1', '3.39',\n",
       "       '3.47', '2.09', '4.67', '5.37', '5.12', '4.7', '4.91', '2.16',\n",
       "       '2.05', '6.68', '1.82', '6.29', '6.97', '2.69', '4.27', '5.96',\n",
       "       '2.47', '33.8', '5.89', '2.54', '4.38', '2.56', '5.46', '3.36',\n",
       "       '2.36', '1.94', '4.59', nan, '4.16', '2.33', '4.3', '14.1', '3.57',\n",
       "       '2.72', '2.11', '2.08', '2.85', '8.63', '3.21', '5.03', '7.4',\n",
       "       '8.04', '4.99', '2.07', '2.12', '9.2', '4.33', '2.67', '1.98',\n",
       "       '1.75', '2.82', '3.84', '3.33', '2.88', '0.50', '1.20', '1.10',\n",
       "       '1.70', '1.00', '4.1'], dtype=object)"
      ]
     },
     "execution_count": 5,
     "metadata": {},
     "output_type": "execute_result"
    }
   ],
   "source": [
    "water_quality_df['Turbidity (NTU)'].unique()"
   ]
  },
  {
   "cell_type": "code",
   "execution_count": 6,
   "metadata": {
    "colab": {
     "base_uri": "https://localhost:8080/"
    },
    "id": "OEqBBvRvgBZx",
    "outputId": "fa1406ae-83c4-4fc0-d00e-fcec22673b4e"
   },
   "outputs": [
    {
     "data": {
      "text/plain": [
       "array([0.22, 0.69, 0.55, 0.87, 0.8 , 0.78, 0.6 , 0.91, 0.52, 0.71, 0.46,\n",
       "       0.35, 0.19, 0.17, 0.85, 0.66, 0.59, 0.72, 0.92, 0.64, 0.81, 0.62,\n",
       "       0.27, 0.5 , 0.36, 0.61, 0.41, 0.29, 0.57, 0.45, 0.28, 0.49, 0.38,\n",
       "       0.65, 0.15, 0.95, 0.16, 0.43, 0.75, 0.88, 0.58, 0.42, 0.73, 0.48,\n",
       "       0.39, 0.86, 0.83, 0.96, 0.63, 0.74, 0.76, 0.79, 0.23, 0.25, 0.06,\n",
       "       0.05, 1.1 , 0.56, 0.54, 0.53, 0.24, 0.37, 0.51, 0.93, 0.3 , 0.12,\n",
       "       0.02, 0.32, 0.98, 0.67, 0.94, 0.77, 0.7 , 0.21, 0.34, 0.82, 0.04,\n",
       "       1.08, 0.99, 0.68, 0.31, 1.07, 0.2 , 1.  , 0.47, 0.44, 0.33, 0.26,\n",
       "       0.97, 0.4 , 0.13, 1.05, 0.89, 1.09, 0.9 , 0.84, 0.11, 1.16, 1.15,\n",
       "       1.17, 1.02, 0.01, 0.1 , 0.08, 1.03, 0.09, 0.14, 1.01, 0.18, 0.03,\n",
       "       0.07, 0.  , 1.11, 1.06, 1.04, 1.19, 1.14, 1.12, 1.13, 1.3 , 1.21,\n",
       "       1.18, 1.26, 1.28, 1.56, 1.33, 1.46, 1.2 , 1.23, 1.22, 1.25, 1.24,\n",
       "       1.35, 1.37, 1.27, 1.42, 1.8 , 2.2 , 1.29, 1.34, 1.76,  nan])"
      ]
     },
     "execution_count": 6,
     "metadata": {},
     "output_type": "execute_result"
    }
   ],
   "source": [
    "water_quality_df['Residual Free Chlorine (mg/L)'].unique()"
   ]
  },
  {
   "cell_type": "code",
   "execution_count": 7,
   "metadata": {
    "colab": {
     "base_uri": "https://localhost:8080/"
    },
    "id": "MqaK052YhRJw",
    "outputId": "b02f39da-5704-4955-972c-09d7ff71bb3c"
   },
   "outputs": [
    {
     "data": {
      "text/plain": [
       "array(['<1', '2', nan, '1'], dtype=object)"
      ]
     },
     "execution_count": 7,
     "metadata": {},
     "output_type": "execute_result"
    }
   ],
   "source": [
    "water_quality_df['E.coli(Quanti-Tray) (MPN/100mL)'].unique()"
   ]
  },
  {
   "cell_type": "code",
   "execution_count": 8,
   "metadata": {
    "colab": {
     "base_uri": "https://localhost:8080/",
     "height": 424
    },
    "id": "4TFD4ra5Po4a",
    "outputId": "3cfbd44b-9174-45bd-d997-fdbb4415ffa4"
   },
   "outputs": [
    {
     "data": {
      "text/html": [
       "<div>\n",
       "<style scoped>\n",
       "    .dataframe tbody tr th:only-of-type {\n",
       "        vertical-align: middle;\n",
       "    }\n",
       "\n",
       "    .dataframe tbody tr th {\n",
       "        vertical-align: top;\n",
       "    }\n",
       "\n",
       "    .dataframe thead th {\n",
       "        text-align: right;\n",
       "    }\n",
       "</style>\n",
       "<table border=\"1\" class=\"dataframe\">\n",
       "  <thead>\n",
       "    <tr style=\"text-align: right;\">\n",
       "      <th></th>\n",
       "      <th>Sample Number</th>\n",
       "      <th>Sample Date</th>\n",
       "      <th>Sample Time</th>\n",
       "      <th>Sample Site</th>\n",
       "      <th>Sample class</th>\n",
       "      <th>Residual Free Chlorine (mg/L)</th>\n",
       "      <th>Turbidity (NTU)</th>\n",
       "      <th>Fluoride (mg/L)</th>\n",
       "      <th>Coliform (Quanti-Tray) (MPN /100mL)</th>\n",
       "      <th>E.coli(Quanti-Tray) (MPN/100mL)</th>\n",
       "    </tr>\n",
       "  </thead>\n",
       "  <tbody>\n",
       "    <tr>\n",
       "      <th>24862</th>\n",
       "      <td>201522271</td>\n",
       "      <td>09/07/2015</td>\n",
       "      <td>10:36</td>\n",
       "      <td>1S07</td>\n",
       "      <td>Operational</td>\n",
       "      <td>0.81</td>\n",
       "      <td>0.74</td>\n",
       "      <td>0.73</td>\n",
       "      <td>&lt;1</td>\n",
       "      <td>&lt;1</td>\n",
       "    </tr>\n",
       "    <tr>\n",
       "      <th>20428</th>\n",
       "      <td>201512667</td>\n",
       "      <td>06/01/2015</td>\n",
       "      <td>09:29</td>\n",
       "      <td>31350</td>\n",
       "      <td>Compliance</td>\n",
       "      <td>0.24</td>\n",
       "      <td>1</td>\n",
       "      <td>NaN</td>\n",
       "      <td>&lt;1</td>\n",
       "      <td>&lt;1</td>\n",
       "    </tr>\n",
       "    <tr>\n",
       "      <th>99449</th>\n",
       "      <td>202012905</td>\n",
       "      <td>05/21/2020</td>\n",
       "      <td>08:26</td>\n",
       "      <td>20900</td>\n",
       "      <td>Operational</td>\n",
       "      <td>0.54</td>\n",
       "      <td>0.72</td>\n",
       "      <td>NaN</td>\n",
       "      <td>&lt;1</td>\n",
       "      <td>&lt;1</td>\n",
       "    </tr>\n",
       "    <tr>\n",
       "      <th>94869</th>\n",
       "      <td>202002985</td>\n",
       "      <td>01/30/2020</td>\n",
       "      <td>10:02</td>\n",
       "      <td>28450</td>\n",
       "      <td>Compliance</td>\n",
       "      <td>0.48</td>\n",
       "      <td>0.66</td>\n",
       "      <td>NaN</td>\n",
       "      <td>&lt;1</td>\n",
       "      <td>&lt;1</td>\n",
       "    </tr>\n",
       "    <tr>\n",
       "      <th>103326</th>\n",
       "      <td>202024042</td>\n",
       "      <td>08/27/2020</td>\n",
       "      <td>11:57</td>\n",
       "      <td>1S07</td>\n",
       "      <td>Operational</td>\n",
       "      <td>0.85</td>\n",
       "      <td>0.9</td>\n",
       "      <td>NaN</td>\n",
       "      <td>&lt;1</td>\n",
       "      <td>&lt;1</td>\n",
       "    </tr>\n",
       "    <tr>\n",
       "      <th>3203</th>\n",
       "      <td>202129038</td>\n",
       "      <td>09/13/2021</td>\n",
       "      <td>11:48</td>\n",
       "      <td>1S03A</td>\n",
       "      <td>Operational</td>\n",
       "      <td>1.10</td>\n",
       "      <td>0.81</td>\n",
       "      <td>0.67</td>\n",
       "      <td>&lt;1</td>\n",
       "      <td>&lt;1</td>\n",
       "    </tr>\n",
       "    <tr>\n",
       "      <th>54827</th>\n",
       "      <td>201721106</td>\n",
       "      <td>07/30/2017</td>\n",
       "      <td>07:38</td>\n",
       "      <td>21550</td>\n",
       "      <td>Compliance</td>\n",
       "      <td>0.30</td>\n",
       "      <td>0.48</td>\n",
       "      <td>NaN</td>\n",
       "      <td>&lt;1</td>\n",
       "      <td>&lt;1</td>\n",
       "    </tr>\n",
       "    <tr>\n",
       "      <th>28612</th>\n",
       "      <td>201530491</td>\n",
       "      <td>12/03/2015</td>\n",
       "      <td>09:50</td>\n",
       "      <td>39400</td>\n",
       "      <td>Operational</td>\n",
       "      <td>0.29</td>\n",
       "      <td>0.24</td>\n",
       "      <td>NaN</td>\n",
       "      <td>&lt;1</td>\n",
       "      <td>&lt;1</td>\n",
       "    </tr>\n",
       "    <tr>\n",
       "      <th>27577</th>\n",
       "      <td>201528261</td>\n",
       "      <td>11/09/2015</td>\n",
       "      <td>09:34</td>\n",
       "      <td>29500</td>\n",
       "      <td>Operational</td>\n",
       "      <td>0.35</td>\n",
       "      <td>0.82</td>\n",
       "      <td>NaN</td>\n",
       "      <td>&lt;1</td>\n",
       "      <td>&lt;1</td>\n",
       "    </tr>\n",
       "    <tr>\n",
       "      <th>4503</th>\n",
       "      <td>202132340</td>\n",
       "      <td>10/12/2021</td>\n",
       "      <td>12:10</td>\n",
       "      <td>42100</td>\n",
       "      <td>Operational</td>\n",
       "      <td>0.75</td>\n",
       "      <td>0.56</td>\n",
       "      <td>NaN</td>\n",
       "      <td>&lt;1</td>\n",
       "      <td>&lt;1</td>\n",
       "    </tr>\n",
       "  </tbody>\n",
       "</table>\n",
       "</div>"
      ],
      "text/plain": [
       "        Sample Number Sample Date Sample Time Sample Site Sample class  \\\n",
       "24862       201522271  09/07/2015       10:36        1S07  Operational   \n",
       "20428       201512667  06/01/2015       09:29       31350   Compliance   \n",
       "99449       202012905  05/21/2020       08:26       20900  Operational   \n",
       "94869       202002985  01/30/2020       10:02       28450   Compliance   \n",
       "103326      202024042  08/27/2020       11:57        1S07  Operational   \n",
       "3203        202129038  09/13/2021       11:48       1S03A  Operational   \n",
       "54827       201721106  07/30/2017       07:38       21550   Compliance   \n",
       "28612       201530491  12/03/2015       09:50       39400  Operational   \n",
       "27577       201528261  11/09/2015       09:34       29500  Operational   \n",
       "4503        202132340  10/12/2021       12:10       42100  Operational   \n",
       "\n",
       "        Residual Free Chlorine (mg/L) Turbidity (NTU) Fluoride (mg/L)  \\\n",
       "24862                            0.81            0.74            0.73   \n",
       "20428                            0.24               1             NaN   \n",
       "99449                            0.54            0.72             NaN   \n",
       "94869                            0.48            0.66             NaN   \n",
       "103326                           0.85             0.9             NaN   \n",
       "3203                             1.10            0.81            0.67   \n",
       "54827                            0.30            0.48             NaN   \n",
       "28612                            0.29            0.24             NaN   \n",
       "27577                            0.35            0.82             NaN   \n",
       "4503                             0.75            0.56             NaN   \n",
       "\n",
       "       Coliform (Quanti-Tray) (MPN /100mL) E.coli(Quanti-Tray) (MPN/100mL)  \n",
       "24862                                   <1                              <1  \n",
       "20428                                   <1                              <1  \n",
       "99449                                   <1                              <1  \n",
       "94869                                   <1                              <1  \n",
       "103326                                  <1                              <1  \n",
       "3203                                    <1                              <1  \n",
       "54827                                   <1                              <1  \n",
       "28612                                   <1                              <1  \n",
       "27577                                   <1                              <1  \n",
       "4503                                    <1                              <1  "
      ]
     },
     "execution_count": 8,
     "metadata": {},
     "output_type": "execute_result"
    }
   ],
   "source": [
    "water_quality_df.sample(10)"
   ]
  },
  {
   "cell_type": "code",
   "execution_count": 9,
   "metadata": {
    "colab": {
     "base_uri": "https://localhost:8080/"
    },
    "id": "m72IY6QUUrhv",
    "outputId": "83be00f0-e91e-4bb7-eba2-be4e6a0cd512"
   },
   "outputs": [
    {
     "name": "stdout",
     "output_type": "stream",
     "text": [
      "<class 'pandas.core.frame.DataFrame'>\n",
      "RangeIndex: 122481 entries, 0 to 122480\n",
      "Data columns (total 10 columns):\n",
      " #   Column                               Non-Null Count   Dtype  \n",
      "---  ------                               --------------   -----  \n",
      " 0   Sample Number                        122481 non-null  int64  \n",
      " 1   Sample Date                          122481 non-null  object \n",
      " 2   Sample Time                          122481 non-null  object \n",
      " 3   Sample Site                          122481 non-null  object \n",
      " 4   Sample class                         122481 non-null  object \n",
      " 5   Residual Free Chlorine (mg/L)        122479 non-null  float64\n",
      " 6   Turbidity (NTU)                      122480 non-null  object \n",
      " 7   Fluoride (mg/L)                      16038 non-null   object \n",
      " 8   Coliform (Quanti-Tray) (MPN /100mL)  122420 non-null  object \n",
      " 9   E.coli(Quanti-Tray) (MPN/100mL)      122420 non-null  object \n",
      "dtypes: float64(1), int64(1), object(8)\n",
      "memory usage: 9.3+ MB\n"
     ]
    }
   ],
   "source": [
    "# Explore and analyse what data types are in our data frame for each column\n",
    "water_quality_df.info()"
   ]
  },
  {
   "cell_type": "code",
   "execution_count": 10,
   "metadata": {
    "colab": {
     "base_uri": "https://localhost:8080/"
    },
    "id": "ar5gbajhUu4h",
    "outputId": "1170faa1-a75f-43c2-9f4a-2bb231a44a6a"
   },
   "outputs": [
    {
     "data": {
      "text/plain": [
       "Index(['Sample Number', 'Sample Date', 'Sample Time', 'Sample Site',\n",
       "       'Sample class', 'Residual Free Chlorine (mg/L)', 'Turbidity (NTU)',\n",
       "       'Fluoride (mg/L)', 'Coliform (Quanti-Tray) (MPN /100mL)',\n",
       "       'E.coli(Quanti-Tray) (MPN/100mL)'],\n",
       "      dtype='object')"
      ]
     },
     "execution_count": 10,
     "metadata": {},
     "output_type": "execute_result"
    }
   ],
   "source": [
    "# Print out all columns\n",
    "water_quality_df.columns"
   ]
  },
  {
   "cell_type": "code",
   "execution_count": 11,
   "metadata": {
    "colab": {
     "base_uri": "https://localhost:8080/"
    },
    "id": "oS9J79h4VHcr",
    "outputId": "be4f286e-c6fc-459e-a2d5-37677a33c4ca"
   },
   "outputs": [
    {
     "data": {
      "text/plain": [
       "array(['Compliance', 'Operational', 'Resample_Compliance',\n",
       "       'Resample_Operational'], dtype=object)"
      ]
     },
     "execution_count": 11,
     "metadata": {},
     "output_type": "execute_result"
    }
   ],
   "source": [
    "# Our initial approach was to use the sample class column, however this was deemed unfit as the class does not provide \n",
    "# more information on whether water is safe or not\n",
    "\n",
    "# Get the unique elements in sample class column\n",
    "water_quality_df[\"Sample class\"].unique() "
   ]
  },
  {
   "cell_type": "markdown",
   "metadata": {
    "id": "3EspVg3bVd6a"
   },
   "source": [
    "\n",
    "**Data pre-processing**"
   ]
  },
  {
   "cell_type": "code",
   "execution_count": 12,
   "metadata": {
    "colab": {
     "base_uri": "https://localhost:8080/",
     "height": 424
    },
    "id": "TdyCayVj0Gq6",
    "outputId": "7496e26d-abd8-4c02-bca8-c6baa838ebad"
   },
   "outputs": [
    {
     "data": {
      "text/html": [
       "<div>\n",
       "<style scoped>\n",
       "    .dataframe tbody tr th:only-of-type {\n",
       "        vertical-align: middle;\n",
       "    }\n",
       "\n",
       "    .dataframe tbody tr th {\n",
       "        vertical-align: top;\n",
       "    }\n",
       "\n",
       "    .dataframe thead th {\n",
       "        text-align: right;\n",
       "    }\n",
       "</style>\n",
       "<table border=\"1\" class=\"dataframe\">\n",
       "  <thead>\n",
       "    <tr style=\"text-align: right;\">\n",
       "      <th></th>\n",
       "      <th>Residual Free Chlorine (mg/L)</th>\n",
       "      <th>Turbidity (NTU)</th>\n",
       "      <th>Fluoride (mg/L)</th>\n",
       "      <th>Coliform (Quanti-Tray) (MPN /100mL)</th>\n",
       "      <th>E.coli(Quanti-Tray) (MPN/100mL)</th>\n",
       "    </tr>\n",
       "  </thead>\n",
       "  <tbody>\n",
       "    <tr>\n",
       "      <th>0</th>\n",
       "      <td>0.22</td>\n",
       "      <td>0.84</td>\n",
       "      <td>NaN</td>\n",
       "      <td>&lt;1</td>\n",
       "      <td>&lt;1</td>\n",
       "    </tr>\n",
       "    <tr>\n",
       "      <th>1</th>\n",
       "      <td>0.69</td>\n",
       "      <td>0.81</td>\n",
       "      <td>NaN</td>\n",
       "      <td>&lt;1</td>\n",
       "      <td>&lt;1</td>\n",
       "    </tr>\n",
       "    <tr>\n",
       "      <th>2</th>\n",
       "      <td>0.55</td>\n",
       "      <td>0.77</td>\n",
       "      <td>NaN</td>\n",
       "      <td>&lt;1</td>\n",
       "      <td>&lt;1</td>\n",
       "    </tr>\n",
       "    <tr>\n",
       "      <th>3</th>\n",
       "      <td>0.87</td>\n",
       "      <td>0.81</td>\n",
       "      <td>NaN</td>\n",
       "      <td>&lt;1</td>\n",
       "      <td>&lt;1</td>\n",
       "    </tr>\n",
       "    <tr>\n",
       "      <th>4</th>\n",
       "      <td>0.80</td>\n",
       "      <td>0.84</td>\n",
       "      <td>NaN</td>\n",
       "      <td>&lt;1</td>\n",
       "      <td>&lt;1</td>\n",
       "    </tr>\n",
       "    <tr>\n",
       "      <th>...</th>\n",
       "      <td>...</td>\n",
       "      <td>...</td>\n",
       "      <td>...</td>\n",
       "      <td>...</td>\n",
       "      <td>...</td>\n",
       "    </tr>\n",
       "    <tr>\n",
       "      <th>122476</th>\n",
       "      <td>0.24</td>\n",
       "      <td>0.89</td>\n",
       "      <td>NaN</td>\n",
       "      <td>&lt;1</td>\n",
       "      <td>&lt;1</td>\n",
       "    </tr>\n",
       "    <tr>\n",
       "      <th>122477</th>\n",
       "      <td>0.44</td>\n",
       "      <td>1.1</td>\n",
       "      <td>NaN</td>\n",
       "      <td>&lt;1</td>\n",
       "      <td>&lt;1</td>\n",
       "    </tr>\n",
       "    <tr>\n",
       "      <th>122478</th>\n",
       "      <td>0.33</td>\n",
       "      <td>0.89</td>\n",
       "      <td>NaN</td>\n",
       "      <td>&lt;1</td>\n",
       "      <td>&lt;1</td>\n",
       "    </tr>\n",
       "    <tr>\n",
       "      <th>122479</th>\n",
       "      <td>0.52</td>\n",
       "      <td>1.0</td>\n",
       "      <td>NaN</td>\n",
       "      <td>&lt;1</td>\n",
       "      <td>&lt;1</td>\n",
       "    </tr>\n",
       "    <tr>\n",
       "      <th>122480</th>\n",
       "      <td>0.56</td>\n",
       "      <td>0.96</td>\n",
       "      <td>NaN</td>\n",
       "      <td>&lt;1</td>\n",
       "      <td>&lt;1</td>\n",
       "    </tr>\n",
       "  </tbody>\n",
       "</table>\n",
       "<p>122481 rows × 5 columns</p>\n",
       "</div>"
      ],
      "text/plain": [
       "        Residual Free Chlorine (mg/L) Turbidity (NTU) Fluoride (mg/L)  \\\n",
       "0                                0.22            0.84             NaN   \n",
       "1                                0.69            0.81             NaN   \n",
       "2                                0.55            0.77             NaN   \n",
       "3                                0.87            0.81             NaN   \n",
       "4                                0.80            0.84             NaN   \n",
       "...                               ...             ...             ...   \n",
       "122476                           0.24            0.89             NaN   \n",
       "122477                           0.44             1.1             NaN   \n",
       "122478                           0.33            0.89             NaN   \n",
       "122479                           0.52             1.0             NaN   \n",
       "122480                           0.56            0.96             NaN   \n",
       "\n",
       "       Coliform (Quanti-Tray) (MPN /100mL) E.coli(Quanti-Tray) (MPN/100mL)  \n",
       "0                                       <1                              <1  \n",
       "1                                       <1                              <1  \n",
       "2                                       <1                              <1  \n",
       "3                                       <1                              <1  \n",
       "4                                       <1                              <1  \n",
       "...                                    ...                             ...  \n",
       "122476                                  <1                              <1  \n",
       "122477                                  <1                              <1  \n",
       "122478                                  <1                              <1  \n",
       "122479                                  <1                              <1  \n",
       "122480                                  <1                              <1  \n",
       "\n",
       "[122481 rows x 5 columns]"
      ]
     },
     "execution_count": 12,
     "metadata": {},
     "output_type": "execute_result"
    }
   ],
   "source": [
    "''' In our case, our interest is to use the columns, 'Residual Free Chlorine (mg/L)', 'Turbidity (NTU)',\n",
    "       'Fluoride (mg/L)', 'Coliform (Quanti-Tray) (MPN /100mL)',\n",
    "       'E.coli(Quanti-Tray) (MPN/100mL)'] \n",
    "\n",
    "We therefore choose only those columns to proceed for the next set of preprocessing steps. \n",
    "       '''\n",
    "\n",
    "new_df = water_quality_df[['Residual Free Chlorine (mg/L)', 'Turbidity (NTU)',\n",
    "                                       'Fluoride (mg/L)', 'Coliform (Quanti-Tray) (MPN /100mL)','E.coli(Quanti-Tray) (MPN/100mL)']]\n",
    "\n",
    "new_df"
   ]
  },
  {
   "cell_type": "code",
   "execution_count": 13,
   "metadata": {
    "id": "BQaImE_3aXQR"
   },
   "outputs": [],
   "source": [
    "# According to the provided metadata, the <1 can be equated to 0. We resolve this first before proceeding to the next pre-processing steps\n",
    "\n",
    "# new_df['Coliform (Quanti-Tray) (MPN /100mL)'] = water_quality_prod['Coliform (Quanti-Tray) (MPN /100mL)'].replace({'<1':0})\n"
   ]
  },
  {
   "cell_type": "code",
   "execution_count": 14,
   "metadata": {
    "colab": {
     "base_uri": "https://localhost:8080/"
    },
    "id": "IuDwf_F57oVw",
    "outputId": "41ea28ab-b01d-4dfb-c27f-1bfb6ab8ff49"
   },
   "outputs": [
    {
     "data": {
      "text/plain": [
       "(122481, 5)"
      ]
     },
     "execution_count": 14,
     "metadata": {},
     "output_type": "execute_result"
    }
   ],
   "source": [
    "new_df.shape # Check number of rows and columns of the dataset"
   ]
  },
  {
   "cell_type": "code",
   "execution_count": 15,
   "metadata": {
    "colab": {
     "base_uri": "https://localhost:8080/"
    },
    "id": "VnIJ9bXPVf5V",
    "outputId": "bf3e5446-580d-432d-f01d-ec600a32160d"
   },
   "outputs": [
    {
     "data": {
      "text/plain": [
       "Residual Free Chlorine (mg/L)               2\n",
       "Turbidity (NTU)                             1\n",
       "Fluoride (mg/L)                        106443\n",
       "Coliform (Quanti-Tray) (MPN /100mL)        61\n",
       "E.coli(Quanti-Tray) (MPN/100mL)            61\n",
       "dtype: int64"
      ]
     },
     "execution_count": 15,
     "metadata": {},
     "output_type": "execute_result"
    }
   ],
   "source": [
    "# Checking for any Null Values in the data\n",
    "\n",
    "new_df.isnull().sum()"
   ]
  },
  {
   "cell_type": "code",
   "execution_count": 16,
   "metadata": {
    "colab": {
     "base_uri": "https://localhost:8080/",
     "height": 424
    },
    "id": "QEOPmL7eXFzH",
    "outputId": "103f60af-f199-401a-8715-b1c7f8bca2e7"
   },
   "outputs": [
    {
     "data": {
      "text/html": [
       "<div>\n",
       "<style scoped>\n",
       "    .dataframe tbody tr th:only-of-type {\n",
       "        vertical-align: middle;\n",
       "    }\n",
       "\n",
       "    .dataframe tbody tr th {\n",
       "        vertical-align: top;\n",
       "    }\n",
       "\n",
       "    .dataframe thead th {\n",
       "        text-align: right;\n",
       "    }\n",
       "</style>\n",
       "<table border=\"1\" class=\"dataframe\">\n",
       "  <thead>\n",
       "    <tr style=\"text-align: right;\">\n",
       "      <th></th>\n",
       "      <th>Residual Free Chlorine (mg/L)</th>\n",
       "      <th>Turbidity (NTU)</th>\n",
       "      <th>Coliform (Quanti-Tray) (MPN /100mL)</th>\n",
       "      <th>E.coli(Quanti-Tray) (MPN/100mL)</th>\n",
       "    </tr>\n",
       "  </thead>\n",
       "  <tbody>\n",
       "    <tr>\n",
       "      <th>0</th>\n",
       "      <td>0.22</td>\n",
       "      <td>0.84</td>\n",
       "      <td>&lt;1</td>\n",
       "      <td>&lt;1</td>\n",
       "    </tr>\n",
       "    <tr>\n",
       "      <th>1</th>\n",
       "      <td>0.69</td>\n",
       "      <td>0.81</td>\n",
       "      <td>&lt;1</td>\n",
       "      <td>&lt;1</td>\n",
       "    </tr>\n",
       "    <tr>\n",
       "      <th>2</th>\n",
       "      <td>0.55</td>\n",
       "      <td>0.77</td>\n",
       "      <td>&lt;1</td>\n",
       "      <td>&lt;1</td>\n",
       "    </tr>\n",
       "    <tr>\n",
       "      <th>3</th>\n",
       "      <td>0.87</td>\n",
       "      <td>0.81</td>\n",
       "      <td>&lt;1</td>\n",
       "      <td>&lt;1</td>\n",
       "    </tr>\n",
       "    <tr>\n",
       "      <th>4</th>\n",
       "      <td>0.80</td>\n",
       "      <td>0.84</td>\n",
       "      <td>&lt;1</td>\n",
       "      <td>&lt;1</td>\n",
       "    </tr>\n",
       "    <tr>\n",
       "      <th>...</th>\n",
       "      <td>...</td>\n",
       "      <td>...</td>\n",
       "      <td>...</td>\n",
       "      <td>...</td>\n",
       "    </tr>\n",
       "    <tr>\n",
       "      <th>122476</th>\n",
       "      <td>0.24</td>\n",
       "      <td>0.89</td>\n",
       "      <td>&lt;1</td>\n",
       "      <td>&lt;1</td>\n",
       "    </tr>\n",
       "    <tr>\n",
       "      <th>122477</th>\n",
       "      <td>0.44</td>\n",
       "      <td>1.1</td>\n",
       "      <td>&lt;1</td>\n",
       "      <td>&lt;1</td>\n",
       "    </tr>\n",
       "    <tr>\n",
       "      <th>122478</th>\n",
       "      <td>0.33</td>\n",
       "      <td>0.89</td>\n",
       "      <td>&lt;1</td>\n",
       "      <td>&lt;1</td>\n",
       "    </tr>\n",
       "    <tr>\n",
       "      <th>122479</th>\n",
       "      <td>0.52</td>\n",
       "      <td>1.0</td>\n",
       "      <td>&lt;1</td>\n",
       "      <td>&lt;1</td>\n",
       "    </tr>\n",
       "    <tr>\n",
       "      <th>122480</th>\n",
       "      <td>0.56</td>\n",
       "      <td>0.96</td>\n",
       "      <td>&lt;1</td>\n",
       "      <td>&lt;1</td>\n",
       "    </tr>\n",
       "  </tbody>\n",
       "</table>\n",
       "<p>122481 rows × 4 columns</p>\n",
       "</div>"
      ],
      "text/plain": [
       "        Residual Free Chlorine (mg/L) Turbidity (NTU)  \\\n",
       "0                                0.22            0.84   \n",
       "1                                0.69            0.81   \n",
       "2                                0.55            0.77   \n",
       "3                                0.87            0.81   \n",
       "4                                0.80            0.84   \n",
       "...                               ...             ...   \n",
       "122476                           0.24            0.89   \n",
       "122477                           0.44             1.1   \n",
       "122478                           0.33            0.89   \n",
       "122479                           0.52             1.0   \n",
       "122480                           0.56            0.96   \n",
       "\n",
       "       Coliform (Quanti-Tray) (MPN /100mL) E.coli(Quanti-Tray) (MPN/100mL)  \n",
       "0                                       <1                              <1  \n",
       "1                                       <1                              <1  \n",
       "2                                       <1                              <1  \n",
       "3                                       <1                              <1  \n",
       "4                                       <1                              <1  \n",
       "...                                    ...                             ...  \n",
       "122476                                  <1                              <1  \n",
       "122477                                  <1                              <1  \n",
       "122478                                  <1                              <1  \n",
       "122479                                  <1                              <1  \n",
       "122480                                  <1                              <1  \n",
       "\n",
       "[122481 rows x 4 columns]"
      ]
     },
     "execution_count": 16,
     "metadata": {},
     "output_type": "execute_result"
    }
   ],
   "source": [
    "# As noted above, we have a huge number of null values in the fluoride column. Few ways to resolve this could be used such as filling in the missing values.\n",
    "# However, due to the high number of missing values, we opted to drop the column completely. \n",
    "\n",
    "new_df = new_df.drop('Fluoride (mg/L)', axis=1)\n",
    "\n",
    "new_df"
   ]
  },
  {
   "cell_type": "code",
   "execution_count": 17,
   "metadata": {
    "colab": {
     "base_uri": "https://localhost:8080/",
     "height": 206
    },
    "id": "r8Jagkpd89Q-",
    "outputId": "010b43be-64b2-4dca-d572-7ea849cba9e1"
   },
   "outputs": [
    {
     "data": {
      "text/html": [
       "<div>\n",
       "<style scoped>\n",
       "    .dataframe tbody tr th:only-of-type {\n",
       "        vertical-align: middle;\n",
       "    }\n",
       "\n",
       "    .dataframe tbody tr th {\n",
       "        vertical-align: top;\n",
       "    }\n",
       "\n",
       "    .dataframe thead th {\n",
       "        text-align: right;\n",
       "    }\n",
       "</style>\n",
       "<table border=\"1\" class=\"dataframe\">\n",
       "  <thead>\n",
       "    <tr style=\"text-align: right;\">\n",
       "      <th></th>\n",
       "      <th>Residual Free Chlorine (mg/L)</th>\n",
       "      <th>Turbidity (NTU)</th>\n",
       "      <th>Coliform (Quanti-Tray) (MPN /100mL)</th>\n",
       "      <th>E.coli(Quanti-Tray) (MPN/100mL)</th>\n",
       "    </tr>\n",
       "  </thead>\n",
       "  <tbody>\n",
       "    <tr>\n",
       "      <th>0</th>\n",
       "      <td>0.22</td>\n",
       "      <td>0.84</td>\n",
       "      <td>&lt;1</td>\n",
       "      <td>&lt;1</td>\n",
       "    </tr>\n",
       "    <tr>\n",
       "      <th>1</th>\n",
       "      <td>0.69</td>\n",
       "      <td>0.81</td>\n",
       "      <td>&lt;1</td>\n",
       "      <td>&lt;1</td>\n",
       "    </tr>\n",
       "    <tr>\n",
       "      <th>2</th>\n",
       "      <td>0.55</td>\n",
       "      <td>0.77</td>\n",
       "      <td>&lt;1</td>\n",
       "      <td>&lt;1</td>\n",
       "    </tr>\n",
       "    <tr>\n",
       "      <th>3</th>\n",
       "      <td>0.87</td>\n",
       "      <td>0.81</td>\n",
       "      <td>&lt;1</td>\n",
       "      <td>&lt;1</td>\n",
       "    </tr>\n",
       "    <tr>\n",
       "      <th>4</th>\n",
       "      <td>0.80</td>\n",
       "      <td>0.84</td>\n",
       "      <td>&lt;1</td>\n",
       "      <td>&lt;1</td>\n",
       "    </tr>\n",
       "  </tbody>\n",
       "</table>\n",
       "</div>"
      ],
      "text/plain": [
       "   Residual Free Chlorine (mg/L) Turbidity (NTU)  \\\n",
       "0                           0.22            0.84   \n",
       "1                           0.69            0.81   \n",
       "2                           0.55            0.77   \n",
       "3                           0.87            0.81   \n",
       "4                           0.80            0.84   \n",
       "\n",
       "  Coliform (Quanti-Tray) (MPN /100mL) E.coli(Quanti-Tray) (MPN/100mL)  \n",
       "0                                  <1                              <1  \n",
       "1                                  <1                              <1  \n",
       "2                                  <1                              <1  \n",
       "3                                  <1                              <1  \n",
       "4                                  <1                              <1  "
      ]
     },
     "execution_count": 17,
     "metadata": {},
     "output_type": "execute_result"
    }
   ],
   "source": [
    "# Investigate the top rows of the dataframe\n",
    "new_df.head(5)"
   ]
  },
  {
   "cell_type": "code",
   "execution_count": 18,
   "metadata": {
    "colab": {
     "base_uri": "https://localhost:8080/",
     "height": 206
    },
    "id": "hEKHztrB9F9B",
    "outputId": "ee364df8-d258-4f68-e70a-c51b2c50f1c6"
   },
   "outputs": [
    {
     "data": {
      "text/html": [
       "<div>\n",
       "<style scoped>\n",
       "    .dataframe tbody tr th:only-of-type {\n",
       "        vertical-align: middle;\n",
       "    }\n",
       "\n",
       "    .dataframe tbody tr th {\n",
       "        vertical-align: top;\n",
       "    }\n",
       "\n",
       "    .dataframe thead th {\n",
       "        text-align: right;\n",
       "    }\n",
       "</style>\n",
       "<table border=\"1\" class=\"dataframe\">\n",
       "  <thead>\n",
       "    <tr style=\"text-align: right;\">\n",
       "      <th></th>\n",
       "      <th>Residual Free Chlorine (mg/L)</th>\n",
       "      <th>Turbidity (NTU)</th>\n",
       "      <th>Coliform (Quanti-Tray) (MPN /100mL)</th>\n",
       "      <th>E.coli(Quanti-Tray) (MPN/100mL)</th>\n",
       "    </tr>\n",
       "  </thead>\n",
       "  <tbody>\n",
       "    <tr>\n",
       "      <th>122476</th>\n",
       "      <td>0.24</td>\n",
       "      <td>0.89</td>\n",
       "      <td>&lt;1</td>\n",
       "      <td>&lt;1</td>\n",
       "    </tr>\n",
       "    <tr>\n",
       "      <th>122477</th>\n",
       "      <td>0.44</td>\n",
       "      <td>1.1</td>\n",
       "      <td>&lt;1</td>\n",
       "      <td>&lt;1</td>\n",
       "    </tr>\n",
       "    <tr>\n",
       "      <th>122478</th>\n",
       "      <td>0.33</td>\n",
       "      <td>0.89</td>\n",
       "      <td>&lt;1</td>\n",
       "      <td>&lt;1</td>\n",
       "    </tr>\n",
       "    <tr>\n",
       "      <th>122479</th>\n",
       "      <td>0.52</td>\n",
       "      <td>1.0</td>\n",
       "      <td>&lt;1</td>\n",
       "      <td>&lt;1</td>\n",
       "    </tr>\n",
       "    <tr>\n",
       "      <th>122480</th>\n",
       "      <td>0.56</td>\n",
       "      <td>0.96</td>\n",
       "      <td>&lt;1</td>\n",
       "      <td>&lt;1</td>\n",
       "    </tr>\n",
       "  </tbody>\n",
       "</table>\n",
       "</div>"
      ],
      "text/plain": [
       "        Residual Free Chlorine (mg/L) Turbidity (NTU)  \\\n",
       "122476                           0.24            0.89   \n",
       "122477                           0.44             1.1   \n",
       "122478                           0.33            0.89   \n",
       "122479                           0.52             1.0   \n",
       "122480                           0.56            0.96   \n",
       "\n",
       "       Coliform (Quanti-Tray) (MPN /100mL) E.coli(Quanti-Tray) (MPN/100mL)  \n",
       "122476                                  <1                              <1  \n",
       "122477                                  <1                              <1  \n",
       "122478                                  <1                              <1  \n",
       "122479                                  <1                              <1  \n",
       "122480                                  <1                              <1  "
      ]
     },
     "execution_count": 18,
     "metadata": {},
     "output_type": "execute_result"
    }
   ],
   "source": [
    "# Investigate the last rows of the dataframe\n",
    "new_df.tail(5)"
   ]
  },
  {
   "cell_type": "code",
   "execution_count": 19,
   "metadata": {
    "colab": {
     "base_uri": "https://localhost:8080/"
    },
    "id": "t8Zdf6aonUIb",
    "outputId": "f4e6254c-c33f-4544-e5c8-1088ae1cd7d1"
   },
   "outputs": [
    {
     "name": "stdout",
     "output_type": "stream",
     "text": [
      "<class 'pandas.core.frame.DataFrame'>\n",
      "RangeIndex: 122481 entries, 0 to 122480\n",
      "Data columns (total 4 columns):\n",
      " #   Column                               Non-Null Count   Dtype  \n",
      "---  ------                               --------------   -----  \n",
      " 0   Residual Free Chlorine (mg/L)        122479 non-null  float64\n",
      " 1   Turbidity (NTU)                      122480 non-null  object \n",
      " 2   Coliform (Quanti-Tray) (MPN /100mL)  122420 non-null  object \n",
      " 3   E.coli(Quanti-Tray) (MPN/100mL)      122420 non-null  object \n",
      "dtypes: float64(1), object(3)\n",
      "memory usage: 3.7+ MB\n"
     ]
    }
   ],
   "source": [
    "new_df.info()  #Check our types before converting them to int"
   ]
  },
  {
   "cell_type": "code",
   "execution_count": 20,
   "metadata": {
    "colab": {
     "base_uri": "https://localhost:8080/",
     "height": 424
    },
    "id": "z0gQ_yn4PI0h",
    "outputId": "425bbb0e-811d-40d2-b802-9122291dd576"
   },
   "outputs": [
    {
     "data": {
      "text/html": [
       "<div>\n",
       "<style scoped>\n",
       "    .dataframe tbody tr th:only-of-type {\n",
       "        vertical-align: middle;\n",
       "    }\n",
       "\n",
       "    .dataframe tbody tr th {\n",
       "        vertical-align: top;\n",
       "    }\n",
       "\n",
       "    .dataframe thead th {\n",
       "        text-align: right;\n",
       "    }\n",
       "</style>\n",
       "<table border=\"1\" class=\"dataframe\">\n",
       "  <thead>\n",
       "    <tr style=\"text-align: right;\">\n",
       "      <th></th>\n",
       "      <th>Residual Free Chlorine (mg/L)</th>\n",
       "      <th>Turbidity (NTU)</th>\n",
       "      <th>Coliform (Quanti-Tray) (MPN /100mL)</th>\n",
       "      <th>E.coli(Quanti-Tray) (MPN/100mL)</th>\n",
       "    </tr>\n",
       "  </thead>\n",
       "  <tbody>\n",
       "    <tr>\n",
       "      <th>0</th>\n",
       "      <td>0.22</td>\n",
       "      <td>0.84</td>\n",
       "      <td>0</td>\n",
       "      <td>0</td>\n",
       "    </tr>\n",
       "    <tr>\n",
       "      <th>1</th>\n",
       "      <td>0.69</td>\n",
       "      <td>0.81</td>\n",
       "      <td>0</td>\n",
       "      <td>0</td>\n",
       "    </tr>\n",
       "    <tr>\n",
       "      <th>2</th>\n",
       "      <td>0.55</td>\n",
       "      <td>0.77</td>\n",
       "      <td>0</td>\n",
       "      <td>0</td>\n",
       "    </tr>\n",
       "    <tr>\n",
       "      <th>3</th>\n",
       "      <td>0.87</td>\n",
       "      <td>0.81</td>\n",
       "      <td>0</td>\n",
       "      <td>0</td>\n",
       "    </tr>\n",
       "    <tr>\n",
       "      <th>4</th>\n",
       "      <td>0.80</td>\n",
       "      <td>0.84</td>\n",
       "      <td>0</td>\n",
       "      <td>0</td>\n",
       "    </tr>\n",
       "    <tr>\n",
       "      <th>...</th>\n",
       "      <td>...</td>\n",
       "      <td>...</td>\n",
       "      <td>...</td>\n",
       "      <td>...</td>\n",
       "    </tr>\n",
       "    <tr>\n",
       "      <th>122476</th>\n",
       "      <td>0.24</td>\n",
       "      <td>0.89</td>\n",
       "      <td>0</td>\n",
       "      <td>0</td>\n",
       "    </tr>\n",
       "    <tr>\n",
       "      <th>122477</th>\n",
       "      <td>0.44</td>\n",
       "      <td>1.1</td>\n",
       "      <td>0</td>\n",
       "      <td>0</td>\n",
       "    </tr>\n",
       "    <tr>\n",
       "      <th>122478</th>\n",
       "      <td>0.33</td>\n",
       "      <td>0.89</td>\n",
       "      <td>0</td>\n",
       "      <td>0</td>\n",
       "    </tr>\n",
       "    <tr>\n",
       "      <th>122479</th>\n",
       "      <td>0.52</td>\n",
       "      <td>1.0</td>\n",
       "      <td>0</td>\n",
       "      <td>0</td>\n",
       "    </tr>\n",
       "    <tr>\n",
       "      <th>122480</th>\n",
       "      <td>0.56</td>\n",
       "      <td>0.96</td>\n",
       "      <td>0</td>\n",
       "      <td>0</td>\n",
       "    </tr>\n",
       "  </tbody>\n",
       "</table>\n",
       "<p>122481 rows × 4 columns</p>\n",
       "</div>"
      ],
      "text/plain": [
       "        Residual Free Chlorine (mg/L) Turbidity (NTU)  \\\n",
       "0                                0.22            0.84   \n",
       "1                                0.69            0.81   \n",
       "2                                0.55            0.77   \n",
       "3                                0.87            0.81   \n",
       "4                                0.80            0.84   \n",
       "...                               ...             ...   \n",
       "122476                           0.24            0.89   \n",
       "122477                           0.44             1.1   \n",
       "122478                           0.33            0.89   \n",
       "122479                           0.52             1.0   \n",
       "122480                           0.56            0.96   \n",
       "\n",
       "       Coliform (Quanti-Tray) (MPN /100mL) E.coli(Quanti-Tray) (MPN/100mL)  \n",
       "0                                        0                               0  \n",
       "1                                        0                               0  \n",
       "2                                        0                               0  \n",
       "3                                        0                               0  \n",
       "4                                        0                               0  \n",
       "...                                    ...                             ...  \n",
       "122476                                   0                               0  \n",
       "122477                                   0                               0  \n",
       "122478                                   0                               0  \n",
       "122479                                   0                               0  \n",
       "122480                                   0                               0  \n",
       "\n",
       "[122481 rows x 4 columns]"
      ]
     },
     "execution_count": 20,
     "metadata": {},
     "output_type": "execute_result"
    }
   ],
   "source": [
    "# This step was added after noticing string entries of the the value <0.01 in the turbidity values\n",
    "# According to the provided metadata, the <1 can be equated to 0. We resolve this first before proceeding to the next pre-processing steps\n",
    "\n",
    "# new_df = new_df.replace('<0.10',0.10)\n",
    "# new_df = new_df.replace('>200.5',200.5)\n",
    "# coliform\n",
    "new_df['Coliform (Quanti-Tray) (MPN /100mL)'] = new_df['Coliform (Quanti-Tray) (MPN /100mL)'].replace({'<1':0, '>200.5':200.6,})\n",
    "\n",
    "# turbidity\n",
    "new_df['Turbidity (NTU)'] = new_df['Turbidity (NTU)'].replace({'<0.10':0.10})\n",
    "# E.coli\n",
    "new_df['E.coli(Quanti-Tray) (MPN/100mL)'] = new_df['E.coli(Quanti-Tray) (MPN/100mL)'].replace({'<1':0})\n",
    "\n",
    "new_df\n"
   ]
  },
  {
   "cell_type": "code",
   "execution_count": 21,
   "metadata": {
    "id": "ANyb6kN6iJnD"
   },
   "outputs": [],
   "source": [
    "# new_df['Coliform (Quanti-Tray) (MPN /100mL)'].unique()"
   ]
  },
  {
   "cell_type": "code",
   "execution_count": 22,
   "metadata": {
    "colab": {
     "base_uri": "https://localhost:8080/"
    },
    "id": "UDaFWqVoehsH",
    "outputId": "ab35fea7-1557-4945-f832-052c0d78041e"
   },
   "outputs": [
    {
     "name": "stdout",
     "output_type": "stream",
     "text": [
      "<class 'pandas.core.frame.DataFrame'>\n",
      "RangeIndex: 122481 entries, 0 to 122480\n",
      "Data columns (total 4 columns):\n",
      " #   Column                               Non-Null Count   Dtype  \n",
      "---  ------                               --------------   -----  \n",
      " 0   Residual Free Chlorine (mg/L)        122479 non-null  float64\n",
      " 1   Turbidity (NTU)                      122480 non-null  object \n",
      " 2   Coliform (Quanti-Tray) (MPN /100mL)  122420 non-null  object \n",
      " 3   E.coli(Quanti-Tray) (MPN/100mL)      122420 non-null  object \n",
      "dtypes: float64(1), object(3)\n",
      "memory usage: 3.7+ MB\n"
     ]
    }
   ],
   "source": [
    "new_df.info() "
   ]
  },
  {
   "cell_type": "code",
   "execution_count": 23,
   "metadata": {
    "colab": {
     "base_uri": "https://localhost:8080/"
    },
    "id": "ru8Pswq9evKP",
    "outputId": "fcca6815-a210-48b9-c958-9dbf6af054d9"
   },
   "outputs": [
    {
     "data": {
      "text/plain": [
       "Residual Free Chlorine (mg/L)           2\n",
       "Turbidity (NTU)                         1\n",
       "Coliform (Quanti-Tray) (MPN /100mL)    61\n",
       "E.coli(Quanti-Tray) (MPN/100mL)        61\n",
       "dtype: int64"
      ]
     },
     "execution_count": 23,
     "metadata": {},
     "output_type": "execute_result"
    }
   ],
   "source": [
    "new_df.isnull().sum()"
   ]
  },
  {
   "cell_type": "code",
   "execution_count": 24,
   "metadata": {
    "id": "PdpApgedjpVk"
   },
   "outputs": [],
   "source": [
    "# convert column to float and then round to 1 decimal place\n",
    "new_df['Turbidity (NTU)'] = round(new_df['Turbidity (NTU)'].astype(float), 1)\n",
    "\n",
    "# convert column to float and then round to 1 decimal place\n",
    "new_df['Coliform (Quanti-Tray) (MPN /100mL)'] = round(new_df['Coliform (Quanti-Tray) (MPN /100mL)'].astype(float), 1)\n",
    "\n",
    "# convert column to float and then round to 1 decimal place\n",
    "new_df['E.coli(Quanti-Tray) (MPN/100mL)'] = round(new_df['E.coli(Quanti-Tray) (MPN/100mL)'].astype(float), 1)"
   ]
  },
  {
   "cell_type": "code",
   "execution_count": 25,
   "metadata": {
    "colab": {
     "base_uri": "https://localhost:8080/"
    },
    "id": "74djUDZNjs0K",
    "outputId": "ba73eb8e-408b-4c3f-8219-2a9c282d1a79"
   },
   "outputs": [
    {
     "name": "stdout",
     "output_type": "stream",
     "text": [
      "<class 'pandas.core.frame.DataFrame'>\n",
      "RangeIndex: 122481 entries, 0 to 122480\n",
      "Data columns (total 4 columns):\n",
      " #   Column                               Non-Null Count   Dtype  \n",
      "---  ------                               --------------   -----  \n",
      " 0   Residual Free Chlorine (mg/L)        122479 non-null  float64\n",
      " 1   Turbidity (NTU)                      122480 non-null  float64\n",
      " 2   Coliform (Quanti-Tray) (MPN /100mL)  122420 non-null  float64\n",
      " 3   E.coli(Quanti-Tray) (MPN/100mL)      122420 non-null  float64\n",
      "dtypes: float64(4)\n",
      "memory usage: 3.7 MB\n"
     ]
    }
   ],
   "source": [
    "new_df.info()"
   ]
  },
  {
   "cell_type": "code",
   "execution_count": 26,
   "metadata": {
    "id": "w5EuSlCBeeUO"
   },
   "outputs": [],
   "source": [
    "# Replace NaN and infinite values with the mean value of the column. \n",
    "\n",
    "new_df.replace([np.inf, -np.inf], np.nan, inplace=True)\n"
   ]
  },
  {
   "cell_type": "code",
   "execution_count": 27,
   "metadata": {
    "id": "fjDWNgUakFHH"
   },
   "outputs": [],
   "source": [
    "new_df = new_df.fillna(0)"
   ]
  },
  {
   "cell_type": "code",
   "execution_count": 28,
   "metadata": {
    "colab": {
     "base_uri": "https://localhost:8080/"
    },
    "id": "lYGalQTCjgvV",
    "outputId": "cada9516-38cd-49bb-c4f5-2287f09c44aa"
   },
   "outputs": [
    {
     "name": "stdout",
     "output_type": "stream",
     "text": [
      "<class 'pandas.core.frame.DataFrame'>\n",
      "RangeIndex: 122481 entries, 0 to 122480\n",
      "Data columns (total 4 columns):\n",
      " #   Column                               Non-Null Count   Dtype  \n",
      "---  ------                               --------------   -----  \n",
      " 0   Residual Free Chlorine (mg/L)        122481 non-null  float64\n",
      " 1   Turbidity (NTU)                      122481 non-null  float64\n",
      " 2   Coliform (Quanti-Tray) (MPN /100mL)  122481 non-null  float64\n",
      " 3   E.coli(Quanti-Tray) (MPN/100mL)      122481 non-null  float64\n",
      "dtypes: float64(4)\n",
      "memory usage: 3.7 MB\n"
     ]
    }
   ],
   "source": [
    "new_df.info()"
   ]
  },
  {
   "cell_type": "code",
   "execution_count": 29,
   "metadata": {
    "colab": {
     "base_uri": "https://localhost:8080/",
     "height": 206
    },
    "id": "syXpBsqONv-Q",
    "outputId": "4e6ef354-8d29-4ddf-a664-43d187d689ac"
   },
   "outputs": [
    {
     "data": {
      "text/html": [
       "<div>\n",
       "<style scoped>\n",
       "    .dataframe tbody tr th:only-of-type {\n",
       "        vertical-align: middle;\n",
       "    }\n",
       "\n",
       "    .dataframe tbody tr th {\n",
       "        vertical-align: top;\n",
       "    }\n",
       "\n",
       "    .dataframe thead th {\n",
       "        text-align: right;\n",
       "    }\n",
       "</style>\n",
       "<table border=\"1\" class=\"dataframe\">\n",
       "  <thead>\n",
       "    <tr style=\"text-align: right;\">\n",
       "      <th></th>\n",
       "      <th>Residual Free Chlorine (mg/L)</th>\n",
       "      <th>Turbidity (NTU)</th>\n",
       "      <th>Coliform (Quanti-Tray) (MPN /100mL)</th>\n",
       "      <th>E.coli(Quanti-Tray) (MPN/100mL)</th>\n",
       "    </tr>\n",
       "  </thead>\n",
       "  <tbody>\n",
       "    <tr>\n",
       "      <th>13528</th>\n",
       "      <td>0.35</td>\n",
       "      <td>0.7</td>\n",
       "      <td>0.0</td>\n",
       "      <td>0.0</td>\n",
       "    </tr>\n",
       "    <tr>\n",
       "      <th>56963</th>\n",
       "      <td>0.73</td>\n",
       "      <td>0.6</td>\n",
       "      <td>0.0</td>\n",
       "      <td>0.0</td>\n",
       "    </tr>\n",
       "    <tr>\n",
       "      <th>105267</th>\n",
       "      <td>0.68</td>\n",
       "      <td>0.7</td>\n",
       "      <td>0.0</td>\n",
       "      <td>0.0</td>\n",
       "    </tr>\n",
       "    <tr>\n",
       "      <th>3560</th>\n",
       "      <td>0.87</td>\n",
       "      <td>0.6</td>\n",
       "      <td>0.0</td>\n",
       "      <td>0.0</td>\n",
       "    </tr>\n",
       "    <tr>\n",
       "      <th>118686</th>\n",
       "      <td>0.70</td>\n",
       "      <td>0.6</td>\n",
       "      <td>0.0</td>\n",
       "      <td>0.0</td>\n",
       "    </tr>\n",
       "  </tbody>\n",
       "</table>\n",
       "</div>"
      ],
      "text/plain": [
       "        Residual Free Chlorine (mg/L)  Turbidity (NTU)  \\\n",
       "13528                            0.35              0.7   \n",
       "56963                            0.73              0.6   \n",
       "105267                           0.68              0.7   \n",
       "3560                             0.87              0.6   \n",
       "118686                           0.70              0.6   \n",
       "\n",
       "        Coliform (Quanti-Tray) (MPN /100mL)  E.coli(Quanti-Tray) (MPN/100mL)  \n",
       "13528                                   0.0                              0.0  \n",
       "56963                                   0.0                              0.0  \n",
       "105267                                  0.0                              0.0  \n",
       "3560                                    0.0                              0.0  \n",
       "118686                                  0.0                              0.0  "
      ]
     },
     "execution_count": 29,
     "metadata": {},
     "output_type": "execute_result"
    }
   ],
   "source": [
    "\n",
    "new_df.sample(5)"
   ]
  },
  {
   "cell_type": "code",
   "execution_count": 30,
   "metadata": {
    "colab": {
     "base_uri": "https://localhost:8080/"
    },
    "id": "A4Y-XNpllOfr",
    "outputId": "89b8def0-6e43-4866-aed2-76b580fce368"
   },
   "outputs": [
    {
     "data": {
      "text/plain": [
       "Residual Free Chlorine (mg/L)          0\n",
       "Turbidity (NTU)                        0\n",
       "Coliform (Quanti-Tray) (MPN /100mL)    0\n",
       "E.coli(Quanti-Tray) (MPN/100mL)        0\n",
       "dtype: int64"
      ]
     },
     "execution_count": 30,
     "metadata": {},
     "output_type": "execute_result"
    }
   ],
   "source": [
    "# Checking for any Null Values in the resulting data set\n",
    "\n",
    "new_df.isnull().sum()\n"
   ]
  },
  {
   "cell_type": "code",
   "execution_count": 31,
   "metadata": {
    "id": "XyLHLI3jbkCU"
   },
   "outputs": [],
   "source": [
    "# new_df['Coliform (Quanti-Tray) (MPN /100mL)'].unique()"
   ]
  },
  {
   "cell_type": "code",
   "execution_count": null,
   "metadata": {
    "id": "QLGqkH1Lg7zX"
   },
   "outputs": [],
   "source": []
  },
  {
   "cell_type": "code",
   "execution_count": 32,
   "metadata": {
    "colab": {
     "base_uri": "https://localhost:8080/",
     "height": 363
    },
    "id": "zQ5Bc5w5cfV1",
    "outputId": "9e082994-b088-4753-bbef-b3e85ccf26da"
   },
   "outputs": [
    {
     "data": {
      "text/html": [
       "<div>\n",
       "<style scoped>\n",
       "    .dataframe tbody tr th:only-of-type {\n",
       "        vertical-align: middle;\n",
       "    }\n",
       "\n",
       "    .dataframe tbody tr th {\n",
       "        vertical-align: top;\n",
       "    }\n",
       "\n",
       "    .dataframe thead th {\n",
       "        text-align: right;\n",
       "    }\n",
       "</style>\n",
       "<table border=\"1\" class=\"dataframe\">\n",
       "  <thead>\n",
       "    <tr style=\"text-align: right;\">\n",
       "      <th></th>\n",
       "      <th>Residual Free Chlorine (mg/L)</th>\n",
       "      <th>Turbidity (NTU)</th>\n",
       "      <th>Coliform (Quanti-Tray) (MPN /100mL)</th>\n",
       "      <th>E.coli(Quanti-Tray) (MPN/100mL)</th>\n",
       "      <th>DrinkableOrNot</th>\n",
       "    </tr>\n",
       "  </thead>\n",
       "  <tbody>\n",
       "    <tr>\n",
       "      <th>113153</th>\n",
       "      <td>0.38</td>\n",
       "      <td>0.1</td>\n",
       "      <td>0.0</td>\n",
       "      <td>0.0</td>\n",
       "      <td>1</td>\n",
       "    </tr>\n",
       "    <tr>\n",
       "      <th>104755</th>\n",
       "      <td>0.71</td>\n",
       "      <td>0.8</td>\n",
       "      <td>0.0</td>\n",
       "      <td>0.0</td>\n",
       "      <td>1</td>\n",
       "    </tr>\n",
       "    <tr>\n",
       "      <th>20293</th>\n",
       "      <td>0.50</td>\n",
       "      <td>0.7</td>\n",
       "      <td>0.0</td>\n",
       "      <td>0.0</td>\n",
       "      <td>1</td>\n",
       "    </tr>\n",
       "    <tr>\n",
       "      <th>98243</th>\n",
       "      <td>0.27</td>\n",
       "      <td>0.6</td>\n",
       "      <td>0.0</td>\n",
       "      <td>0.0</td>\n",
       "      <td>1</td>\n",
       "    </tr>\n",
       "    <tr>\n",
       "      <th>85508</th>\n",
       "      <td>0.45</td>\n",
       "      <td>0.5</td>\n",
       "      <td>0.0</td>\n",
       "      <td>0.0</td>\n",
       "      <td>1</td>\n",
       "    </tr>\n",
       "    <tr>\n",
       "      <th>44418</th>\n",
       "      <td>0.70</td>\n",
       "      <td>0.9</td>\n",
       "      <td>0.0</td>\n",
       "      <td>0.0</td>\n",
       "      <td>1</td>\n",
       "    </tr>\n",
       "    <tr>\n",
       "      <th>74016</th>\n",
       "      <td>0.14</td>\n",
       "      <td>0.5</td>\n",
       "      <td>0.0</td>\n",
       "      <td>0.0</td>\n",
       "      <td>1</td>\n",
       "    </tr>\n",
       "    <tr>\n",
       "      <th>54154</th>\n",
       "      <td>0.40</td>\n",
       "      <td>0.5</td>\n",
       "      <td>0.0</td>\n",
       "      <td>0.0</td>\n",
       "      <td>1</td>\n",
       "    </tr>\n",
       "    <tr>\n",
       "      <th>86868</th>\n",
       "      <td>0.40</td>\n",
       "      <td>0.5</td>\n",
       "      <td>0.0</td>\n",
       "      <td>0.0</td>\n",
       "      <td>1</td>\n",
       "    </tr>\n",
       "    <tr>\n",
       "      <th>6939</th>\n",
       "      <td>0.57</td>\n",
       "      <td>0.9</td>\n",
       "      <td>0.0</td>\n",
       "      <td>0.0</td>\n",
       "      <td>1</td>\n",
       "    </tr>\n",
       "  </tbody>\n",
       "</table>\n",
       "</div>"
      ],
      "text/plain": [
       "        Residual Free Chlorine (mg/L)  Turbidity (NTU)  \\\n",
       "113153                           0.38              0.1   \n",
       "104755                           0.71              0.8   \n",
       "20293                            0.50              0.7   \n",
       "98243                            0.27              0.6   \n",
       "85508                            0.45              0.5   \n",
       "44418                            0.70              0.9   \n",
       "74016                            0.14              0.5   \n",
       "54154                            0.40              0.5   \n",
       "86868                            0.40              0.5   \n",
       "6939                             0.57              0.9   \n",
       "\n",
       "        Coliform (Quanti-Tray) (MPN /100mL)  E.coli(Quanti-Tray) (MPN/100mL)  \\\n",
       "113153                                  0.0                              0.0   \n",
       "104755                                  0.0                              0.0   \n",
       "20293                                   0.0                              0.0   \n",
       "98243                                   0.0                              0.0   \n",
       "85508                                   0.0                              0.0   \n",
       "44418                                   0.0                              0.0   \n",
       "74016                                   0.0                              0.0   \n",
       "54154                                   0.0                              0.0   \n",
       "86868                                   0.0                              0.0   \n",
       "6939                                    0.0                              0.0   \n",
       "\n",
       "        DrinkableOrNot  \n",
       "113153               1  \n",
       "104755               1  \n",
       "20293                1  \n",
       "98243                1  \n",
       "85508                1  \n",
       "44418                1  \n",
       "74016                1  \n",
       "54154                1  \n",
       "86868                1  \n",
       "6939                 1  "
      ]
     },
     "execution_count": 32,
     "metadata": {},
     "output_type": "execute_result"
    }
   ],
   "source": [
    "#Use a formula to come up with our y values\n",
    "\n",
    "residual_chlorine_threshold = 1.0 # mg/L\n",
    "turbidity_threshold = 5 # NTU\n",
    "coliform_threshold = 0 # MPN/100ml\n",
    "e_coli_threshold = 0 # MPN/100ml\n",
    "\n",
    "\n",
    "# define your conditions\n",
    "condition1 = lambda x: x <= residual_chlorine_threshold;\n",
    "condition2 = lambda x: x <= turbidity_threshold;\n",
    "condition3 = lambda x: x <= coliform_threshold;\n",
    "condition4 = lambda x: x <= e_coli_threshold;\n",
    "\n",
    "\n",
    "# apply the conditions to each row and create a new column 'result'\n",
    "new_df['DrinkableOrNot'] = new_df.apply(lambda row: int(condition1(row['Residual Free Chlorine (mg/L)']) and condition2(row['Turbidity (NTU)']) \\\n",
    "                                                   and condition3(row['Coliform (Quanti-Tray) (MPN /100mL)']) and \\\n",
    "                                                   condition4(row['E.coli(Quanti-Tray) (MPN/100mL)'])), axis=1)\n",
    "\n",
    "new_df.sample(10)"
   ]
  },
  {
   "cell_type": "code",
   "execution_count": 33,
   "metadata": {
    "colab": {
     "base_uri": "https://localhost:8080/"
    },
    "id": "vpD9Usu_OHwi",
    "outputId": "95c3dbf8-f715-4f83-80ce-25823e15d9bb"
   },
   "outputs": [
    {
     "name": "stdout",
     "output_type": "stream",
     "text": [
      "<class 'pandas.core.frame.DataFrame'>\n",
      "RangeIndex: 122481 entries, 0 to 122480\n",
      "Data columns (total 5 columns):\n",
      " #   Column                               Non-Null Count   Dtype  \n",
      "---  ------                               --------------   -----  \n",
      " 0   Residual Free Chlorine (mg/L)        122481 non-null  float64\n",
      " 1   Turbidity (NTU)                      122481 non-null  float64\n",
      " 2   Coliform (Quanti-Tray) (MPN /100mL)  122481 non-null  float64\n",
      " 3   E.coli(Quanti-Tray) (MPN/100mL)      122481 non-null  float64\n",
      " 4   DrinkableOrNot                       122481 non-null  int64  \n",
      "dtypes: float64(4), int64(1)\n",
      "memory usage: 4.7 MB\n"
     ]
    }
   ],
   "source": [
    "new_df.info()"
   ]
  },
  {
   "cell_type": "code",
   "execution_count": 34,
   "metadata": {
    "colab": {
     "base_uri": "https://localhost:8080/",
     "height": 206
    },
    "id": "hYiJeEk5TOJy",
    "outputId": "f55d074d-7205-4123-bac4-65f9634960a3"
   },
   "outputs": [
    {
     "data": {
      "text/html": [
       "<div>\n",
       "<style scoped>\n",
       "    .dataframe tbody tr th:only-of-type {\n",
       "        vertical-align: middle;\n",
       "    }\n",
       "\n",
       "    .dataframe tbody tr th {\n",
       "        vertical-align: top;\n",
       "    }\n",
       "\n",
       "    .dataframe thead th {\n",
       "        text-align: right;\n",
       "    }\n",
       "</style>\n",
       "<table border=\"1\" class=\"dataframe\">\n",
       "  <thead>\n",
       "    <tr style=\"text-align: right;\">\n",
       "      <th></th>\n",
       "      <th>Chlorine</th>\n",
       "      <th>Turbidity</th>\n",
       "      <th>Coliform</th>\n",
       "      <th>E.Coli</th>\n",
       "      <th>DrinkableOrNot</th>\n",
       "    </tr>\n",
       "  </thead>\n",
       "  <tbody>\n",
       "    <tr>\n",
       "      <th>23016</th>\n",
       "      <td>0.85</td>\n",
       "      <td>0.5</td>\n",
       "      <td>0.0</td>\n",
       "      <td>0.0</td>\n",
       "      <td>1</td>\n",
       "    </tr>\n",
       "    <tr>\n",
       "      <th>106743</th>\n",
       "      <td>0.47</td>\n",
       "      <td>0.8</td>\n",
       "      <td>0.0</td>\n",
       "      <td>0.0</td>\n",
       "      <td>1</td>\n",
       "    </tr>\n",
       "    <tr>\n",
       "      <th>62024</th>\n",
       "      <td>0.58</td>\n",
       "      <td>0.8</td>\n",
       "      <td>0.0</td>\n",
       "      <td>0.0</td>\n",
       "      <td>1</td>\n",
       "    </tr>\n",
       "    <tr>\n",
       "      <th>29188</th>\n",
       "      <td>0.64</td>\n",
       "      <td>0.8</td>\n",
       "      <td>0.0</td>\n",
       "      <td>0.0</td>\n",
       "      <td>1</td>\n",
       "    </tr>\n",
       "    <tr>\n",
       "      <th>48835</th>\n",
       "      <td>0.56</td>\n",
       "      <td>1.0</td>\n",
       "      <td>0.0</td>\n",
       "      <td>0.0</td>\n",
       "      <td>1</td>\n",
       "    </tr>\n",
       "  </tbody>\n",
       "</table>\n",
       "</div>"
      ],
      "text/plain": [
       "        Chlorine  Turbidity  Coliform  E.Coli  DrinkableOrNot\n",
       "23016       0.85        0.5       0.0     0.0               1\n",
       "106743      0.47        0.8       0.0     0.0               1\n",
       "62024       0.58        0.8       0.0     0.0               1\n",
       "29188       0.64        0.8       0.0     0.0               1\n",
       "48835       0.56        1.0       0.0     0.0               1"
      ]
     },
     "execution_count": 34,
     "metadata": {},
     "output_type": "execute_result"
    }
   ],
   "source": [
    "#Rename columns for easier exploration and better view when exploring the various features\n",
    "\n",
    "df = pd.DataFrame(new_df)\n",
    "df.columns = [\"Chlorine\", \"Turbidity\", \"Coliform\", \"E.Coli\", \"DrinkableOrNot\"]\n",
    "\n",
    "df.sample(5)"
   ]
  },
  {
   "cell_type": "code",
   "execution_count": 35,
   "metadata": {
    "colab": {
     "base_uri": "https://localhost:8080/"
    },
    "id": "ksKN6WP0nL2u",
    "outputId": "60083d82-9fab-4c82-e8ce-7da6cc31b6cf"
   },
   "outputs": [
    {
     "data": {
      "text/plain": [
       "array([1, 0], dtype=int64)"
      ]
     },
     "execution_count": 35,
     "metadata": {},
     "output_type": "execute_result"
    }
   ],
   "source": [
    "df['DrinkableOrNot'].unique()"
   ]
  },
  {
   "cell_type": "markdown",
   "metadata": {
    "id": "q-_L1mkEReDg"
   },
   "source": [
    "## Data Exploration"
   ]
  },
  {
   "cell_type": "code",
   "execution_count": 36,
   "metadata": {
    "colab": {
     "base_uri": "https://localhost:8080/",
     "height": 441
    },
    "id": "gz7jRhaXLe8s",
    "outputId": "288d1814-53ab-4468-b531-0355b23c480c"
   },
   "outputs": [
    {
     "name": "stdout",
     "output_type": "stream",
     "text": [
      "1    0.978715\n",
      "0    0.021285\n",
      "Name: DrinkableOrNot, dtype: float64\n"
     ]
    },
    {
     "data": {
      "image/png": "[encoded data removed]",
      "text/plain": [
       "<Figure size 432x288 with 1 Axes>"
      ]
     },
     "metadata": {
      "needs_background": "light"
     },
     "output_type": "display_data"
    }
   ],
   "source": [
    "# Count number of values per class\n",
    "drinkable_column = df['DrinkableOrNot'].value_counts(normalize=True)\n",
    "print(drinkable_column)\n",
    "\n",
    "# ploting the weight of each class for easy interpretation\n",
    "# sns.countplot(drinkable_column)\n",
    "plt.bar(drinkable_column.index, drinkable_column.values, color=['green','red'])\n",
    "plt.xticks([0,1], ['Not Drinkable', 'Drinkable'])\n",
    "plt.ylabel('Proportion')\n",
    "plt.title('Distribution of samples')\n",
    "plt.show()"
   ]
  },
  {
   "cell_type": "code",
   "execution_count": 37,
   "metadata": {
    "id": "zc1azJiWF92t"
   },
   "outputs": [],
   "source": [
    "# #explanatory variables\n",
    "# # df = pd.DataFrame({'lab':['A', 'B', 'C'], 'val':[10, 30, 20]})\n",
    "# ax = df.plot.bar(x=[\"Chlorine\", \"Turbidity\", \"Coliform\", \"E.Coli\"], y='DrinkableOrNot', rot=0)"
   ]
  },
  {
   "cell_type": "code",
   "execution_count": 38,
   "metadata": {
    "colab": {
     "base_uri": "https://localhost:8080/",
     "height": 389
    },
    "id": "3i8PpA8oOjFQ",
    "outputId": "ecebd702-55f4-49ac-e9d3-4791165e848f"
   },
   "outputs": [
    {
     "data": {
      "image/png": "[encoded data removed]",
      "text/plain": [
       "<Figure size 720x432 with 2 Axes>"
      ]
     },
     "metadata": {
      "needs_background": "light"
     },
     "output_type": "display_data"
    }
   ],
   "source": [
    "#Correlation Matrix between the four variables to understand the correlation between them.\n",
    "\n",
    "df_corr = df.corr().round(2)    #Find the correlation matrix, rounded off to two decimal places\n",
    "\n",
    "plt.rcParams[\"figure.figsize\"] = (10,6)\n",
    "plt.title('A HeatMap of the Correlation Matrix - Water Quality Features')\n",
    "mask = np.triu(np.ones_like(df_corr, dtype=bool))\n",
    "sns.heatmap(df_corr, annot=True, vmax=1, vmin=-1, center=0, cmap='vlag', mask=mask)\n",
    "plt.show()"
   ]
  },
  {
   "cell_type": "code",
   "execution_count": 39,
   "metadata": {
    "colab": {
     "base_uri": "https://localhost:8080/",
     "height": 335
    },
    "id": "Q0ngJsndR6WU",
    "outputId": "f67665b2-3763-47ee-8c1b-3d9f890a1384"
   },
   "outputs": [
    {
     "data": {
      "image/png": "[encoded data removed]",
      "text/plain": [
       "<Figure size 1080x360 with 4 Axes>"
      ]
     },
     "metadata": {
      "needs_background": "light"
     },
     "output_type": "display_data"
    }
   ],
   "source": [
    "# Univariate analysis: Create box plots to identify the presence of any outliers\n",
    "\n",
    "fig, axs = plt.subplots(1, 4, figsize=(15, 5))\n",
    "\n",
    "for i, col in enumerate(['Chlorine', 'Turbidity', 'Coliform', 'E.Coli']):\n",
    "    axs[i].boxplot(df[col])\n",
    "    axs[i].set_title(col)\n",
    "    axs[i].set_ylabel('Value')\n",
    "\n",
    "\n",
    "plt.show()\n",
    "\n"
   ]
  },
  {
   "cell_type": "code",
   "execution_count": 40,
   "metadata": {
    "colab": {
     "base_uri": "https://localhost:8080/",
     "height": 725
    },
    "id": "35qaUofnVy2y",
    "outputId": "acac6b70-c497-42c8-dd34-1c564b1332cf"
   },
   "outputs": [
    {
     "data": {
      "image/png": "[encoded data removed]",
      "text/plain": [
       "<Figure size 720x720 with 20 Axes>"
      ]
     },
     "metadata": {
      "needs_background": "light"
     },
     "output_type": "display_data"
    }
   ],
   "source": [
    "# Pairwise Bivariate Analysis\n",
    "sns.pairplot(data=df, vars=['Chlorine', 'Turbidity', 'Coliform', 'E.Coli'])\n",
    "plt.show()"
   ]
  },
  {
   "cell_type": "code",
   "execution_count": 41,
   "metadata": {
    "colab": {
     "base_uri": "https://localhost:8080/"
    },
    "id": "dbQv8lgRpNsW",
    "outputId": "9e9bf3e0-678c-4e78-f526-33de7338a83b"
   },
   "outputs": [
    {
     "data": {
      "text/plain": [
       "array([1, 0], dtype=int64)"
      ]
     },
     "execution_count": 41,
     "metadata": {},
     "output_type": "execute_result"
    }
   ],
   "source": [
    "df['DrinkableOrNot'].unique()"
   ]
  },
  {
   "cell_type": "code",
   "execution_count": 42,
   "metadata": {
    "colab": {
     "base_uri": "https://localhost:8080/"
    },
    "id": "ei-ECD_CO0FI",
    "outputId": "e505e274-18a1-43cc-87f1-32961f384ba8"
   },
   "outputs": [
    {
     "name": "stdout",
     "output_type": "stream",
     "text": [
      "<class 'pandas.core.frame.DataFrame'>\n",
      "RangeIndex: 122481 entries, 0 to 122480\n",
      "Data columns (total 5 columns):\n",
      " #   Column          Non-Null Count   Dtype  \n",
      "---  ------          --------------   -----  \n",
      " 0   Chlorine        122481 non-null  float64\n",
      " 1   Turbidity       122481 non-null  float64\n",
      " 2   Coliform        122481 non-null  float64\n",
      " 3   E.Coli          122481 non-null  float64\n",
      " 4   DrinkableOrNot  122481 non-null  int64  \n",
      "dtypes: float64(4), int64(1)\n",
      "memory usage: 4.7 MB\n"
     ]
    }
   ],
   "source": [
    "df.info()"
   ]
  },
  {
   "cell_type": "markdown",
   "metadata": {
    "id": "J7Yzt-6HrjdI"
   },
   "source": [
    "## Data Scaling using standard scaler"
   ]
  },
  {
   "cell_type": "code",
   "execution_count": 43,
   "metadata": {
    "id": "f5psOQgtrqRb"
   },
   "outputs": [],
   "source": [
    "# handling outliers using standard scaling \n",
    "# defining the independent and dependent variables\n",
    "# x = df.iloc[:,:-1]  # independent variables\n",
    "# y = df['DrinkableOrNot']"
   ]
  },
  {
   "cell_type": "code",
   "execution_count": 44,
   "metadata": {
    "id": "5Ujim7SCrqYo"
   },
   "outputs": [],
   "source": [
    "\n",
    "# # # scaling independent variables\n",
    "# scaler=StandardScaler() # scales data to unit variance\n",
    "# x_value=scaler.fit_transform(x) # computes mean and stdev and then uses this to transform data\n",
    "\n",
    "# # dumping the scaled independent variables in a dataframe\n",
    "# x = pd.DataFrame(x_value, columns= x.columns)\n",
    "# x\n"
   ]
  },
  {
   "cell_type": "code",
   "execution_count": 45,
   "metadata": {
    "colab": {
     "base_uri": "https://localhost:8080/",
     "height": 424
    },
    "id": "xiJ12tNAoBa8",
    "outputId": "b34e84d4-8740-4693-9a89-03087dcb11e5"
   },
   "outputs": [
    {
     "data": {
      "text/html": [
       "<div>\n",
       "<style scoped>\n",
       "    .dataframe tbody tr th:only-of-type {\n",
       "        vertical-align: middle;\n",
       "    }\n",
       "\n",
       "    .dataframe tbody tr th {\n",
       "        vertical-align: top;\n",
       "    }\n",
       "\n",
       "    .dataframe thead th {\n",
       "        text-align: right;\n",
       "    }\n",
       "</style>\n",
       "<table border=\"1\" class=\"dataframe\">\n",
       "  <thead>\n",
       "    <tr style=\"text-align: right;\">\n",
       "      <th></th>\n",
       "      <th>Chlorine</th>\n",
       "      <th>Turbidity</th>\n",
       "      <th>Coliform</th>\n",
       "      <th>E.Coli</th>\n",
       "      <th>DrinkableOrNot</th>\n",
       "    </tr>\n",
       "  </thead>\n",
       "  <tbody>\n",
       "    <tr>\n",
       "      <th>0</th>\n",
       "      <td>0.22</td>\n",
       "      <td>0.8</td>\n",
       "      <td>0.0</td>\n",
       "      <td>0.0</td>\n",
       "      <td>1</td>\n",
       "    </tr>\n",
       "    <tr>\n",
       "      <th>1</th>\n",
       "      <td>0.69</td>\n",
       "      <td>0.8</td>\n",
       "      <td>0.0</td>\n",
       "      <td>0.0</td>\n",
       "      <td>1</td>\n",
       "    </tr>\n",
       "    <tr>\n",
       "      <th>2</th>\n",
       "      <td>0.55</td>\n",
       "      <td>0.8</td>\n",
       "      <td>0.0</td>\n",
       "      <td>0.0</td>\n",
       "      <td>1</td>\n",
       "    </tr>\n",
       "    <tr>\n",
       "      <th>3</th>\n",
       "      <td>0.87</td>\n",
       "      <td>0.8</td>\n",
       "      <td>0.0</td>\n",
       "      <td>0.0</td>\n",
       "      <td>1</td>\n",
       "    </tr>\n",
       "    <tr>\n",
       "      <th>4</th>\n",
       "      <td>0.80</td>\n",
       "      <td>0.8</td>\n",
       "      <td>0.0</td>\n",
       "      <td>0.0</td>\n",
       "      <td>1</td>\n",
       "    </tr>\n",
       "    <tr>\n",
       "      <th>...</th>\n",
       "      <td>...</td>\n",
       "      <td>...</td>\n",
       "      <td>...</td>\n",
       "      <td>...</td>\n",
       "      <td>...</td>\n",
       "    </tr>\n",
       "    <tr>\n",
       "      <th>122476</th>\n",
       "      <td>0.24</td>\n",
       "      <td>0.9</td>\n",
       "      <td>0.0</td>\n",
       "      <td>0.0</td>\n",
       "      <td>1</td>\n",
       "    </tr>\n",
       "    <tr>\n",
       "      <th>122477</th>\n",
       "      <td>0.44</td>\n",
       "      <td>1.1</td>\n",
       "      <td>0.0</td>\n",
       "      <td>0.0</td>\n",
       "      <td>1</td>\n",
       "    </tr>\n",
       "    <tr>\n",
       "      <th>122478</th>\n",
       "      <td>0.33</td>\n",
       "      <td>0.9</td>\n",
       "      <td>0.0</td>\n",
       "      <td>0.0</td>\n",
       "      <td>1</td>\n",
       "    </tr>\n",
       "    <tr>\n",
       "      <th>122479</th>\n",
       "      <td>0.52</td>\n",
       "      <td>1.0</td>\n",
       "      <td>0.0</td>\n",
       "      <td>0.0</td>\n",
       "      <td>1</td>\n",
       "    </tr>\n",
       "    <tr>\n",
       "      <th>122480</th>\n",
       "      <td>0.56</td>\n",
       "      <td>1.0</td>\n",
       "      <td>0.0</td>\n",
       "      <td>0.0</td>\n",
       "      <td>1</td>\n",
       "    </tr>\n",
       "  </tbody>\n",
       "</table>\n",
       "<p>122481 rows × 5 columns</p>\n",
       "</div>"
      ],
      "text/plain": [
       "        Chlorine  Turbidity  Coliform  E.Coli  DrinkableOrNot\n",
       "0           0.22        0.8       0.0     0.0               1\n",
       "1           0.69        0.8       0.0     0.0               1\n",
       "2           0.55        0.8       0.0     0.0               1\n",
       "3           0.87        0.8       0.0     0.0               1\n",
       "4           0.80        0.8       0.0     0.0               1\n",
       "...          ...        ...       ...     ...             ...\n",
       "122476      0.24        0.9       0.0     0.0               1\n",
       "122477      0.44        1.1       0.0     0.0               1\n",
       "122478      0.33        0.9       0.0     0.0               1\n",
       "122479      0.52        1.0       0.0     0.0               1\n",
       "122480      0.56        1.0       0.0     0.0               1\n",
       "\n",
       "[122481 rows x 5 columns]"
      ]
     },
     "execution_count": 45,
     "metadata": {},
     "output_type": "execute_result"
    }
   ],
   "source": [
    "df"
   ]
  },
  {
   "cell_type": "markdown",
   "metadata": {
    "id": "z6fDDHH9vnoB"
   },
   "source": [
    "## Handling outliers: Imputation by replacing outliers with  median "
   ]
  },
  {
   "cell_type": "code",
   "execution_count": 46,
   "metadata": {
    "id": "DnO3dPK_tEll"
   },
   "outputs": [],
   "source": [
    "# detecting outliers and replace them with the median of each column \n",
    "df_copy = df.iloc[:,:-1]   # creating a copy of the data\n",
    "medians = df_copy.median()    # geting the median of the data columnwise\n",
    "\n",
    "# # looping through each column to find outliers and replace them with the median of its whole column\n",
    "for column in df_copy.columns:\n",
    "    if column == \"marker\":\n",
    "        continue\n",
    "    q1=df_copy.quantile(0.25)  # 25th percentile\n",
    "    q3=df_copy.quantile(0.75)  # 75th percentile\n",
    "    IQR=q3-q1\n",
    "    lower_bound = q1[column]-(1.5*IQR[column])\n",
    "    upper_bound = q3[column]+(1.5*IQR[column]) \n",
    "    df_copy[column] = np.where((df_copy[column] > upper_bound) | (df_copy[column] < lower_bound),medians[column],df_copy[column] )\n",
    "\n"
   ]
  },
  {
   "cell_type": "code",
   "execution_count": 47,
   "metadata": {
    "colab": {
     "base_uri": "https://localhost:8080/",
     "height": 424
    },
    "id": "up5cZ4lfh31w",
    "outputId": "9e63ece2-fd10-45c5-bb09-e7b4b6337694"
   },
   "outputs": [
    {
     "data": {
      "text/html": [
       "<div>\n",
       "<style scoped>\n",
       "    .dataframe tbody tr th:only-of-type {\n",
       "        vertical-align: middle;\n",
       "    }\n",
       "\n",
       "    .dataframe tbody tr th {\n",
       "        vertical-align: top;\n",
       "    }\n",
       "\n",
       "    .dataframe thead th {\n",
       "        text-align: right;\n",
       "    }\n",
       "</style>\n",
       "<table border=\"1\" class=\"dataframe\">\n",
       "  <thead>\n",
       "    <tr style=\"text-align: right;\">\n",
       "      <th></th>\n",
       "      <th>DrinkableOrNot</th>\n",
       "    </tr>\n",
       "  </thead>\n",
       "  <tbody>\n",
       "    <tr>\n",
       "      <th>0</th>\n",
       "      <td>1</td>\n",
       "    </tr>\n",
       "    <tr>\n",
       "      <th>1</th>\n",
       "      <td>1</td>\n",
       "    </tr>\n",
       "    <tr>\n",
       "      <th>2</th>\n",
       "      <td>1</td>\n",
       "    </tr>\n",
       "    <tr>\n",
       "      <th>3</th>\n",
       "      <td>1</td>\n",
       "    </tr>\n",
       "    <tr>\n",
       "      <th>4</th>\n",
       "      <td>1</td>\n",
       "    </tr>\n",
       "    <tr>\n",
       "      <th>...</th>\n",
       "      <td>...</td>\n",
       "    </tr>\n",
       "    <tr>\n",
       "      <th>122476</th>\n",
       "      <td>1</td>\n",
       "    </tr>\n",
       "    <tr>\n",
       "      <th>122477</th>\n",
       "      <td>1</td>\n",
       "    </tr>\n",
       "    <tr>\n",
       "      <th>122478</th>\n",
       "      <td>1</td>\n",
       "    </tr>\n",
       "    <tr>\n",
       "      <th>122479</th>\n",
       "      <td>1</td>\n",
       "    </tr>\n",
       "    <tr>\n",
       "      <th>122480</th>\n",
       "      <td>1</td>\n",
       "    </tr>\n",
       "  </tbody>\n",
       "</table>\n",
       "<p>122481 rows × 1 columns</p>\n",
       "</div>"
      ],
      "text/plain": [
       "        DrinkableOrNot\n",
       "0                    1\n",
       "1                    1\n",
       "2                    1\n",
       "3                    1\n",
       "4                    1\n",
       "...                ...\n",
       "122476               1\n",
       "122477               1\n",
       "122478               1\n",
       "122479               1\n",
       "122480               1\n",
       "\n",
       "[122481 rows x 1 columns]"
      ]
     },
     "execution_count": 47,
     "metadata": {},
     "output_type": "execute_result"
    }
   ],
   "source": [
    "df.iloc[:,-1:] "
   ]
  },
  {
   "cell_type": "code",
   "execution_count": 48,
   "metadata": {
    "id": "n3caIUrptEof"
   },
   "outputs": [],
   "source": [
    "# finaln df after removing outliers\n",
    "df_copy['DrinkableOrNot'] = df.iloc[:,-1:] "
   ]
  },
  {
   "cell_type": "code",
   "execution_count": 49,
   "metadata": {
    "colab": {
     "base_uri": "https://localhost:8080/",
     "height": 424
    },
    "id": "C93GhCLliAf1",
    "outputId": "9f2ba967-d2bf-455e-b8f8-08aabda2e6d5"
   },
   "outputs": [
    {
     "data": {
      "text/html": [
       "<div>\n",
       "<style scoped>\n",
       "    .dataframe tbody tr th:only-of-type {\n",
       "        vertical-align: middle;\n",
       "    }\n",
       "\n",
       "    .dataframe tbody tr th {\n",
       "        vertical-align: top;\n",
       "    }\n",
       "\n",
       "    .dataframe thead th {\n",
       "        text-align: right;\n",
       "    }\n",
       "</style>\n",
       "<table border=\"1\" class=\"dataframe\">\n",
       "  <thead>\n",
       "    <tr style=\"text-align: right;\">\n",
       "      <th></th>\n",
       "      <th>Chlorine</th>\n",
       "      <th>Turbidity</th>\n",
       "      <th>Coliform</th>\n",
       "      <th>E.Coli</th>\n",
       "      <th>DrinkableOrNot</th>\n",
       "    </tr>\n",
       "  </thead>\n",
       "  <tbody>\n",
       "    <tr>\n",
       "      <th>0</th>\n",
       "      <td>0.22</td>\n",
       "      <td>0.8</td>\n",
       "      <td>0.0</td>\n",
       "      <td>0.0</td>\n",
       "      <td>1</td>\n",
       "    </tr>\n",
       "    <tr>\n",
       "      <th>1</th>\n",
       "      <td>0.69</td>\n",
       "      <td>0.8</td>\n",
       "      <td>0.0</td>\n",
       "      <td>0.0</td>\n",
       "      <td>1</td>\n",
       "    </tr>\n",
       "    <tr>\n",
       "      <th>2</th>\n",
       "      <td>0.55</td>\n",
       "      <td>0.8</td>\n",
       "      <td>0.0</td>\n",
       "      <td>0.0</td>\n",
       "      <td>1</td>\n",
       "    </tr>\n",
       "    <tr>\n",
       "      <th>3</th>\n",
       "      <td>0.87</td>\n",
       "      <td>0.8</td>\n",
       "      <td>0.0</td>\n",
       "      <td>0.0</td>\n",
       "      <td>1</td>\n",
       "    </tr>\n",
       "    <tr>\n",
       "      <th>4</th>\n",
       "      <td>0.80</td>\n",
       "      <td>0.8</td>\n",
       "      <td>0.0</td>\n",
       "      <td>0.0</td>\n",
       "      <td>1</td>\n",
       "    </tr>\n",
       "    <tr>\n",
       "      <th>...</th>\n",
       "      <td>...</td>\n",
       "      <td>...</td>\n",
       "      <td>...</td>\n",
       "      <td>...</td>\n",
       "      <td>...</td>\n",
       "    </tr>\n",
       "    <tr>\n",
       "      <th>122476</th>\n",
       "      <td>0.24</td>\n",
       "      <td>0.9</td>\n",
       "      <td>0.0</td>\n",
       "      <td>0.0</td>\n",
       "      <td>1</td>\n",
       "    </tr>\n",
       "    <tr>\n",
       "      <th>122477</th>\n",
       "      <td>0.44</td>\n",
       "      <td>1.1</td>\n",
       "      <td>0.0</td>\n",
       "      <td>0.0</td>\n",
       "      <td>1</td>\n",
       "    </tr>\n",
       "    <tr>\n",
       "      <th>122478</th>\n",
       "      <td>0.33</td>\n",
       "      <td>0.9</td>\n",
       "      <td>0.0</td>\n",
       "      <td>0.0</td>\n",
       "      <td>1</td>\n",
       "    </tr>\n",
       "    <tr>\n",
       "      <th>122479</th>\n",
       "      <td>0.52</td>\n",
       "      <td>1.0</td>\n",
       "      <td>0.0</td>\n",
       "      <td>0.0</td>\n",
       "      <td>1</td>\n",
       "    </tr>\n",
       "    <tr>\n",
       "      <th>122480</th>\n",
       "      <td>0.56</td>\n",
       "      <td>1.0</td>\n",
       "      <td>0.0</td>\n",
       "      <td>0.0</td>\n",
       "      <td>1</td>\n",
       "    </tr>\n",
       "  </tbody>\n",
       "</table>\n",
       "<p>122481 rows × 5 columns</p>\n",
       "</div>"
      ],
      "text/plain": [
       "        Chlorine  Turbidity  Coliform  E.Coli  DrinkableOrNot\n",
       "0           0.22        0.8       0.0     0.0               1\n",
       "1           0.69        0.8       0.0     0.0               1\n",
       "2           0.55        0.8       0.0     0.0               1\n",
       "3           0.87        0.8       0.0     0.0               1\n",
       "4           0.80        0.8       0.0     0.0               1\n",
       "...          ...        ...       ...     ...             ...\n",
       "122476      0.24        0.9       0.0     0.0               1\n",
       "122477      0.44        1.1       0.0     0.0               1\n",
       "122478      0.33        0.9       0.0     0.0               1\n",
       "122479      0.52        1.0       0.0     0.0               1\n",
       "122480      0.56        1.0       0.0     0.0               1\n",
       "\n",
       "[122481 rows x 5 columns]"
      ]
     },
     "execution_count": 49,
     "metadata": {},
     "output_type": "execute_result"
    }
   ],
   "source": [
    "df_copy"
   ]
  },
  {
   "cell_type": "code",
   "execution_count": 50,
   "metadata": {
    "colab": {
     "base_uri": "https://localhost:8080/"
    },
    "id": "0B4nvazFogj4",
    "outputId": "0e081e0e-82de-472f-b996-e96c789d4275"
   },
   "outputs": [
    {
     "data": {
      "text/plain": [
       "array([1, 0], dtype=int64)"
      ]
     },
     "execution_count": 50,
     "metadata": {},
     "output_type": "execute_result"
    }
   ],
   "source": [
    "df['DrinkableOrNot'].unique()"
   ]
  },
  {
   "cell_type": "code",
   "execution_count": 51,
   "metadata": {
    "colab": {
     "base_uri": "https://localhost:8080/",
     "height": 424
    },
    "id": "y0JMNkbniUHe",
    "outputId": "cb8d85ca-0e91-4197-edba-3f7e15e2f057"
   },
   "outputs": [
    {
     "data": {
      "text/html": [
       "<div>\n",
       "<style scoped>\n",
       "    .dataframe tbody tr th:only-of-type {\n",
       "        vertical-align: middle;\n",
       "    }\n",
       "\n",
       "    .dataframe tbody tr th {\n",
       "        vertical-align: top;\n",
       "    }\n",
       "\n",
       "    .dataframe thead th {\n",
       "        text-align: right;\n",
       "    }\n",
       "</style>\n",
       "<table border=\"1\" class=\"dataframe\">\n",
       "  <thead>\n",
       "    <tr style=\"text-align: right;\">\n",
       "      <th></th>\n",
       "      <th>Chlorine</th>\n",
       "      <th>Turbidity</th>\n",
       "      <th>Coliform</th>\n",
       "      <th>E.Coli</th>\n",
       "    </tr>\n",
       "  </thead>\n",
       "  <tbody>\n",
       "    <tr>\n",
       "      <th>0</th>\n",
       "      <td>0.22</td>\n",
       "      <td>0.8</td>\n",
       "      <td>0.0</td>\n",
       "      <td>0.0</td>\n",
       "    </tr>\n",
       "    <tr>\n",
       "      <th>1</th>\n",
       "      <td>0.69</td>\n",
       "      <td>0.8</td>\n",
       "      <td>0.0</td>\n",
       "      <td>0.0</td>\n",
       "    </tr>\n",
       "    <tr>\n",
       "      <th>2</th>\n",
       "      <td>0.55</td>\n",
       "      <td>0.8</td>\n",
       "      <td>0.0</td>\n",
       "      <td>0.0</td>\n",
       "    </tr>\n",
       "    <tr>\n",
       "      <th>3</th>\n",
       "      <td>0.87</td>\n",
       "      <td>0.8</td>\n",
       "      <td>0.0</td>\n",
       "      <td>0.0</td>\n",
       "    </tr>\n",
       "    <tr>\n",
       "      <th>4</th>\n",
       "      <td>0.80</td>\n",
       "      <td>0.8</td>\n",
       "      <td>0.0</td>\n",
       "      <td>0.0</td>\n",
       "    </tr>\n",
       "    <tr>\n",
       "      <th>...</th>\n",
       "      <td>...</td>\n",
       "      <td>...</td>\n",
       "      <td>...</td>\n",
       "      <td>...</td>\n",
       "    </tr>\n",
       "    <tr>\n",
       "      <th>122476</th>\n",
       "      <td>0.24</td>\n",
       "      <td>0.9</td>\n",
       "      <td>0.0</td>\n",
       "      <td>0.0</td>\n",
       "    </tr>\n",
       "    <tr>\n",
       "      <th>122477</th>\n",
       "      <td>0.44</td>\n",
       "      <td>1.1</td>\n",
       "      <td>0.0</td>\n",
       "      <td>0.0</td>\n",
       "    </tr>\n",
       "    <tr>\n",
       "      <th>122478</th>\n",
       "      <td>0.33</td>\n",
       "      <td>0.9</td>\n",
       "      <td>0.0</td>\n",
       "      <td>0.0</td>\n",
       "    </tr>\n",
       "    <tr>\n",
       "      <th>122479</th>\n",
       "      <td>0.52</td>\n",
       "      <td>1.0</td>\n",
       "      <td>0.0</td>\n",
       "      <td>0.0</td>\n",
       "    </tr>\n",
       "    <tr>\n",
       "      <th>122480</th>\n",
       "      <td>0.56</td>\n",
       "      <td>1.0</td>\n",
       "      <td>0.0</td>\n",
       "      <td>0.0</td>\n",
       "    </tr>\n",
       "  </tbody>\n",
       "</table>\n",
       "<p>122481 rows × 4 columns</p>\n",
       "</div>"
      ],
      "text/plain": [
       "        Chlorine  Turbidity  Coliform  E.Coli\n",
       "0           0.22        0.8       0.0     0.0\n",
       "1           0.69        0.8       0.0     0.0\n",
       "2           0.55        0.8       0.0     0.0\n",
       "3           0.87        0.8       0.0     0.0\n",
       "4           0.80        0.8       0.0     0.0\n",
       "...          ...        ...       ...     ...\n",
       "122476      0.24        0.9       0.0     0.0\n",
       "122477      0.44        1.1       0.0     0.0\n",
       "122478      0.33        0.9       0.0     0.0\n",
       "122479      0.52        1.0       0.0     0.0\n",
       "122480      0.56        1.0       0.0     0.0\n",
       "\n",
       "[122481 rows x 4 columns]"
      ]
     },
     "execution_count": 51,
     "metadata": {},
     "output_type": "execute_result"
    }
   ],
   "source": [
    "df_copy.iloc[:,:-1]"
   ]
  },
  {
   "cell_type": "code",
   "execution_count": 52,
   "metadata": {
    "colab": {
     "base_uri": "https://localhost:8080/",
     "height": 335
    },
    "id": "QmUaPUCJtEsK",
    "outputId": "eace0f3f-4989-4f05-c479-57ea5ab9307e"
   },
   "outputs": [
    {
     "data": {
      "image/png": "[encoded data removed]",
      "text/plain": [
       "<Figure size 1080x360 with 4 Axes>"
      ]
     },
     "metadata": {
      "needs_background": "light"
     },
     "output_type": "display_data"
    }
   ],
   "source": [
    "# plotting after handling outliers\n",
    "# Univariate analysis: Create box plots to identify the presence of any outliers after handling them\n",
    "\n",
    "fig, axs = plt.subplots(1, 4, figsize=(15, 5))\n",
    "\n",
    "for i, col in enumerate(df_copy.iloc[:,:-1]):\n",
    "    axs[i].boxplot(df_copy[col])\n",
    "    axs[i].set_title(col)\n",
    "    axs[i].set_ylabel('Value')\n",
    "\n",
    "\n",
    "plt.show()\n"
   ]
  },
  {
   "cell_type": "markdown",
   "metadata": {
    "id": "GDynIh4rjneK"
   },
   "source": [
    "## Data Scaling after imputation"
   ]
  },
  {
   "cell_type": "code",
   "execution_count": 53,
   "metadata": {
    "colab": {
     "base_uri": "https://localhost:8080/",
     "height": 424
    },
    "id": "q30fCfESj0LW",
    "outputId": "3113504b-7ef7-48c3-ae48-b23d102eabfa"
   },
   "outputs": [
    {
     "data": {
      "text/html": [
       "<div>\n",
       "<style scoped>\n",
       "    .dataframe tbody tr th:only-of-type {\n",
       "        vertical-align: middle;\n",
       "    }\n",
       "\n",
       "    .dataframe tbody tr th {\n",
       "        vertical-align: top;\n",
       "    }\n",
       "\n",
       "    .dataframe thead th {\n",
       "        text-align: right;\n",
       "    }\n",
       "</style>\n",
       "<table border=\"1\" class=\"dataframe\">\n",
       "  <thead>\n",
       "    <tr style=\"text-align: right;\">\n",
       "      <th></th>\n",
       "      <th>Chlorine</th>\n",
       "      <th>Turbidity</th>\n",
       "      <th>Coliform</th>\n",
       "      <th>E.Coli</th>\n",
       "    </tr>\n",
       "  </thead>\n",
       "  <tbody>\n",
       "    <tr>\n",
       "      <th>0</th>\n",
       "      <td>0.22</td>\n",
       "      <td>0.8</td>\n",
       "      <td>0.0</td>\n",
       "      <td>0.0</td>\n",
       "    </tr>\n",
       "    <tr>\n",
       "      <th>1</th>\n",
       "      <td>0.69</td>\n",
       "      <td>0.8</td>\n",
       "      <td>0.0</td>\n",
       "      <td>0.0</td>\n",
       "    </tr>\n",
       "    <tr>\n",
       "      <th>2</th>\n",
       "      <td>0.55</td>\n",
       "      <td>0.8</td>\n",
       "      <td>0.0</td>\n",
       "      <td>0.0</td>\n",
       "    </tr>\n",
       "    <tr>\n",
       "      <th>3</th>\n",
       "      <td>0.87</td>\n",
       "      <td>0.8</td>\n",
       "      <td>0.0</td>\n",
       "      <td>0.0</td>\n",
       "    </tr>\n",
       "    <tr>\n",
       "      <th>4</th>\n",
       "      <td>0.80</td>\n",
       "      <td>0.8</td>\n",
       "      <td>0.0</td>\n",
       "      <td>0.0</td>\n",
       "    </tr>\n",
       "    <tr>\n",
       "      <th>...</th>\n",
       "      <td>...</td>\n",
       "      <td>...</td>\n",
       "      <td>...</td>\n",
       "      <td>...</td>\n",
       "    </tr>\n",
       "    <tr>\n",
       "      <th>122476</th>\n",
       "      <td>0.24</td>\n",
       "      <td>0.9</td>\n",
       "      <td>0.0</td>\n",
       "      <td>0.0</td>\n",
       "    </tr>\n",
       "    <tr>\n",
       "      <th>122477</th>\n",
       "      <td>0.44</td>\n",
       "      <td>1.1</td>\n",
       "      <td>0.0</td>\n",
       "      <td>0.0</td>\n",
       "    </tr>\n",
       "    <tr>\n",
       "      <th>122478</th>\n",
       "      <td>0.33</td>\n",
       "      <td>0.9</td>\n",
       "      <td>0.0</td>\n",
       "      <td>0.0</td>\n",
       "    </tr>\n",
       "    <tr>\n",
       "      <th>122479</th>\n",
       "      <td>0.52</td>\n",
       "      <td>1.0</td>\n",
       "      <td>0.0</td>\n",
       "      <td>0.0</td>\n",
       "    </tr>\n",
       "    <tr>\n",
       "      <th>122480</th>\n",
       "      <td>0.56</td>\n",
       "      <td>1.0</td>\n",
       "      <td>0.0</td>\n",
       "      <td>0.0</td>\n",
       "    </tr>\n",
       "  </tbody>\n",
       "</table>\n",
       "<p>122481 rows × 4 columns</p>\n",
       "</div>"
      ],
      "text/plain": [
       "        Chlorine  Turbidity  Coliform  E.Coli\n",
       "0           0.22        0.8       0.0     0.0\n",
       "1           0.69        0.8       0.0     0.0\n",
       "2           0.55        0.8       0.0     0.0\n",
       "3           0.87        0.8       0.0     0.0\n",
       "4           0.80        0.8       0.0     0.0\n",
       "...          ...        ...       ...     ...\n",
       "122476      0.24        0.9       0.0     0.0\n",
       "122477      0.44        1.1       0.0     0.0\n",
       "122478      0.33        0.9       0.0     0.0\n",
       "122479      0.52        1.0       0.0     0.0\n",
       "122480      0.56        1.0       0.0     0.0\n",
       "\n",
       "[122481 rows x 4 columns]"
      ]
     },
     "execution_count": 53,
     "metadata": {},
     "output_type": "execute_result"
    }
   ],
   "source": [
    "# defining the independent and dependent variables\n",
    "x = df_copy.iloc[:,:-1]  # independent variables\n",
    "y = df_copy['DrinkableOrNot']\n",
    "x"
   ]
  },
  {
   "cell_type": "code",
   "execution_count": 54,
   "metadata": {
    "colab": {
     "base_uri": "https://localhost:8080/",
     "height": 424
    },
    "id": "26HH7ciVjlh7",
    "outputId": "f7f52adf-2111-4dd6-c3cc-546c25e48454"
   },
   "outputs": [
    {
     "data": {
      "text/html": [
       "<div>\n",
       "<style scoped>\n",
       "    .dataframe tbody tr th:only-of-type {\n",
       "        vertical-align: middle;\n",
       "    }\n",
       "\n",
       "    .dataframe tbody tr th {\n",
       "        vertical-align: top;\n",
       "    }\n",
       "\n",
       "    .dataframe thead th {\n",
       "        text-align: right;\n",
       "    }\n",
       "</style>\n",
       "<table border=\"1\" class=\"dataframe\">\n",
       "  <thead>\n",
       "    <tr style=\"text-align: right;\">\n",
       "      <th></th>\n",
       "      <th>Chlorine</th>\n",
       "      <th>Turbidity</th>\n",
       "      <th>Coliform</th>\n",
       "      <th>E.Coli</th>\n",
       "    </tr>\n",
       "  </thead>\n",
       "  <tbody>\n",
       "    <tr>\n",
       "      <th>0</th>\n",
       "      <td>-1.644708</td>\n",
       "      <td>0.413039</td>\n",
       "      <td>0.0</td>\n",
       "      <td>0.0</td>\n",
       "    </tr>\n",
       "    <tr>\n",
       "      <th>1</th>\n",
       "      <td>0.566872</td>\n",
       "      <td>0.413039</td>\n",
       "      <td>0.0</td>\n",
       "      <td>0.0</td>\n",
       "    </tr>\n",
       "    <tr>\n",
       "      <th>2</th>\n",
       "      <td>-0.091897</td>\n",
       "      <td>0.413039</td>\n",
       "      <td>0.0</td>\n",
       "      <td>0.0</td>\n",
       "    </tr>\n",
       "    <tr>\n",
       "      <th>3</th>\n",
       "      <td>1.413860</td>\n",
       "      <td>0.413039</td>\n",
       "      <td>0.0</td>\n",
       "      <td>0.0</td>\n",
       "    </tr>\n",
       "    <tr>\n",
       "      <th>4</th>\n",
       "      <td>1.084475</td>\n",
       "      <td>0.413039</td>\n",
       "      <td>0.0</td>\n",
       "      <td>0.0</td>\n",
       "    </tr>\n",
       "    <tr>\n",
       "      <th>...</th>\n",
       "      <td>...</td>\n",
       "      <td>...</td>\n",
       "      <td>...</td>\n",
       "      <td>...</td>\n",
       "    </tr>\n",
       "    <tr>\n",
       "      <th>122476</th>\n",
       "      <td>-1.550599</td>\n",
       "      <td>1.073750</td>\n",
       "      <td>0.0</td>\n",
       "      <td>0.0</td>\n",
       "    </tr>\n",
       "    <tr>\n",
       "      <th>122477</th>\n",
       "      <td>-0.609501</td>\n",
       "      <td>2.395174</td>\n",
       "      <td>0.0</td>\n",
       "      <td>0.0</td>\n",
       "    </tr>\n",
       "    <tr>\n",
       "      <th>122478</th>\n",
       "      <td>-1.127105</td>\n",
       "      <td>1.073750</td>\n",
       "      <td>0.0</td>\n",
       "      <td>0.0</td>\n",
       "    </tr>\n",
       "    <tr>\n",
       "      <th>122479</th>\n",
       "      <td>-0.233062</td>\n",
       "      <td>1.734462</td>\n",
       "      <td>0.0</td>\n",
       "      <td>0.0</td>\n",
       "    </tr>\n",
       "    <tr>\n",
       "      <th>122480</th>\n",
       "      <td>-0.044842</td>\n",
       "      <td>1.734462</td>\n",
       "      <td>0.0</td>\n",
       "      <td>0.0</td>\n",
       "    </tr>\n",
       "  </tbody>\n",
       "</table>\n",
       "<p>122481 rows × 4 columns</p>\n",
       "</div>"
      ],
      "text/plain": [
       "        Chlorine  Turbidity  Coliform  E.Coli\n",
       "0      -1.644708   0.413039       0.0     0.0\n",
       "1       0.566872   0.413039       0.0     0.0\n",
       "2      -0.091897   0.413039       0.0     0.0\n",
       "3       1.413860   0.413039       0.0     0.0\n",
       "4       1.084475   0.413039       0.0     0.0\n",
       "...          ...        ...       ...     ...\n",
       "122476 -1.550599   1.073750       0.0     0.0\n",
       "122477 -0.609501   2.395174       0.0     0.0\n",
       "122478 -1.127105   1.073750       0.0     0.0\n",
       "122479 -0.233062   1.734462       0.0     0.0\n",
       "122480 -0.044842   1.734462       0.0     0.0\n",
       "\n",
       "[122481 rows x 4 columns]"
      ]
     },
     "execution_count": 54,
     "metadata": {},
     "output_type": "execute_result"
    }
   ],
   "source": [
    "\n",
    "# # # scaling independent variables\n",
    "scaler=StandardScaler() # scales data to unit variance\n",
    "x_value=scaler.fit_transform(x) # computes mean and stdev and then uses this to transform data\n",
    "\n",
    "# dumping the scaled independent variables in a dataframe\n",
    "x = pd.DataFrame(x_value, columns= x.columns)\n",
    "x\n"
   ]
  },
  {
   "cell_type": "markdown",
   "metadata": {
    "id": "Ynp91hO5nD5Q"
   },
   "source": [
    "# Model Building(Logistic regression,KNN, Random forest)\n",
    "\n"
   ]
  },
  {
   "cell_type": "code",
   "execution_count": 55,
   "metadata": {
    "id": "8VlQrNTbJcyg"
   },
   "outputs": [],
   "source": [
    "# # defining the independent and dependent variables\n",
    "# x = df_copy.iloc[:,:-1]  # independent variables\n",
    "# y = df_copy['DrinkableOrNot']"
   ]
  },
  {
   "cell_type": "code",
   "execution_count": 56,
   "metadata": {
    "id": "9Lvu3exCN8Ew"
   },
   "outputs": [],
   "source": [
    "# x"
   ]
  },
  {
   "cell_type": "code",
   "execution_count": 57,
   "metadata": {
    "id": "KTiiqnVcpPSP"
   },
   "outputs": [],
   "source": [
    "# y.sample(20)"
   ]
  },
  {
   "cell_type": "code",
   "execution_count": 58,
   "metadata": {
    "colab": {
     "base_uri": "https://localhost:8080/"
    },
    "id": "k5fwBYslmlFw",
    "outputId": "dce882a7-33e9-427f-c44f-fb3f6ba2fec8"
   },
   "outputs": [
    {
     "data": {
      "text/plain": [
       "((85736, 4), (36745, 4), (85736,), (36745,))"
      ]
     },
     "execution_count": 58,
     "metadata": {},
     "output_type": "execute_result"
    }
   ],
   "source": [
    "# split the data for training and testing using train_test_split\n",
    "x_train,x_test,y_train,y_test=train_test_split(x,y,test_size=0.3) # 70% training set and 30% test set\n",
    "\n",
    "# getting the shape of the splitted data\n",
    "x_train.shape, x_test.shape, y_train.shape, y_test.shape"
   ]
  },
  {
   "cell_type": "code",
   "execution_count": 59,
   "metadata": {
    "colab": {
     "base_uri": "https://localhost:8080/"
    },
    "id": "nHWuYklRk3_W",
    "outputId": "5afa3e57-cb71-4b78-fa61-53ea5f64a855"
   },
   "outputs": [
    {
     "data": {
      "text/plain": [
       "array([1, 0], dtype=int64)"
      ]
     },
     "execution_count": 59,
     "metadata": {},
     "output_type": "execute_result"
    }
   ],
   "source": [
    "y_train.unique()"
   ]
  },
  {
   "cell_type": "code",
   "execution_count": 60,
   "metadata": {
    "colab": {
     "base_uri": "https://localhost:8080/"
    },
    "id": "A_WHiUcWNrFM",
    "outputId": "ef34e255-66d3-4d2e-d2ec-71f12f11cc07"
   },
   "outputs": [
    {
     "name": "stdout",
     "output_type": "stream",
     "text": [
      "<class 'pandas.core.frame.DataFrame'>\n",
      "Int64Index: 85736 entries, 51737 to 8060\n",
      "Data columns (total 4 columns):\n",
      " #   Column     Non-Null Count  Dtype  \n",
      "---  ------     --------------  -----  \n",
      " 0   Chlorine   85736 non-null  float64\n",
      " 1   Turbidity  85736 non-null  float64\n",
      " 2   Coliform   85736 non-null  float64\n",
      " 3   E.Coli     85736 non-null  float64\n",
      "dtypes: float64(4)\n",
      "memory usage: 3.3 MB\n"
     ]
    }
   ],
   "source": [
    "x_train.info()"
   ]
  },
  {
   "cell_type": "code",
   "execution_count": 61,
   "metadata": {
    "id": "YDMdJncPup-t"
   },
   "outputs": [],
   "source": [
    "def graph_confusion_matrix(cmatrix):\n",
    "    # Print the confusion matrix using Matplotlib\n",
    "    fig, ax = plt.subplots(figsize=(4, 4))\n",
    "    ax.matshow(cmatrix, cmap='Accent')\n",
    "    for i in range(cmatrix.shape[1]):\n",
    "        for j in range(cmatrix.shape[0]):\n",
    "            ax.text(x=j, y=i,s=cmatrix[i, j], va='center', ha='center', size='large')\n",
    "\n",
    "    plt.xlabel('Predicted', fontsize=12)\n",
    "    plt.ylabel('Actual', fontsize=12)\n",
    "    plt.title('Confusion Matrix', fontsize=12)\n",
    "    plt.show()"
   ]
  },
  {
   "cell_type": "markdown",
   "metadata": {
    "id": "fRZsE7SzJ7td"
   },
   "source": [
    "# Logistic regression"
   ]
  },
  {
   "cell_type": "code",
   "execution_count": 62,
   "metadata": {
    "colab": {
     "base_uri": "https://localhost:8080/",
     "height": 418
    },
    "id": "VTXcOYW1mlJT",
    "outputId": "34a41b5d-59f6-40d4-94df-50fbbf92cd8f"
   },
   "outputs": [
    {
     "name": "stdout",
     "output_type": "stream",
     "text": [
      "Logistic regression accuracy: 0.9817117975234726\n",
      "Mean squared error: 0.018288202476527418\n"
     ]
    },
    {
     "data": {
      "image/png": "[encoded data removed]",
      "text/plain": [
       "<Figure size 288x288 with 1 Axes>"
      ]
     },
     "metadata": {
      "needs_background": "light"
     },
     "output_type": "display_data"
    },
    {
     "name": "stdout",
     "output_type": "stream",
     "text": [
      "Classification Report:\n",
      "\n",
      "Precision:0.982\n",
      "Recall:0.982\n",
      "f1-score:0.975\n"
     ]
    }
   ],
   "source": [
    "# instatiate the model\n",
    "log_reg = LogisticRegression()\n",
    "\n",
    "# train the model \n",
    "log_reg.fit(x_train,y_train)  \n",
    "\n",
    "# perform prediction on x_test\n",
    "y_pred = log_reg.predict(x_test)\n",
    "y_pred\n",
    "\n",
    "# check performance using accuracy\n",
    "print(\"Logistic regression accuracy:\", accuracy_score(y_test,y_pred))\n",
    "print(\"Mean squared error:\", mean_squared_error(y_test,y_pred))\n",
    "acc_1 = accuracy_score(y_test,y_pred)\n",
    "#Metrics\n",
    "cmatrix=confusion_matrix(y_test, y_pred)\n",
    "graph_confusion_matrix(cmatrix)\n",
    "\n",
    "print(\"Classification Report:\")\n",
    "c_report=classification_report(y_test,y_pred,output_dict=True)\n",
    "#print(c_report)\n",
    "logistic_regression_precision=c_report['weighted avg']['precision']\n",
    "logistic_regression_recall=c_report['weighted avg']['recall']\n",
    "logistic_regression_f1score=c_report['weighted avg']['f1-score']\n",
    "print()\n",
    "print(f\"Precision:{logistic_regression_precision:.3f}\\nRecall:{logistic_regression_recall:.3f}\\\n",
    "\\nf1-score:{logistic_regression_f1score:.3f}\")\n"
   ]
  },
  {
   "cell_type": "markdown",
   "metadata": {
    "id": "hYL_w9riKX_L"
   },
   "source": [
    "## KNearest Neigbors"
   ]
  },
  {
   "cell_type": "code",
   "execution_count": null,
   "metadata": {
    "id": "4Z1pw8K5s-Zj"
   },
   "outputs": [],
   "source": []
  },
  {
   "cell_type": "code",
   "execution_count": 63,
   "metadata": {
    "colab": {
     "base_uri": "https://localhost:8080/",
     "height": 418
    },
    "id": "tcivpfw5JuXa",
    "outputId": "ebff73db-9afb-42df-f770-2df0e3a00abd"
   },
   "outputs": [
    {
     "name": "stdout",
     "output_type": "stream",
     "text": [
      "knn accuracy: 0.9868825690570145\n",
      "Mean squared error: 0.01311743094298544\n"
     ]
    },
    {
     "data": {
      "image/png": "[encoded data removed]",
      "text/plain": [
       "<Figure size 288x288 with 1 Axes>"
      ]
     },
     "metadata": {
      "needs_background": "light"
     },
     "output_type": "display_data"
    },
    {
     "name": "stdout",
     "output_type": "stream",
     "text": [
      "Classification Report:\n",
      "\n",
      "Precision:0.988\n",
      "Recall:0.987\n",
      "f1-score:0.987\n"
     ]
    }
   ],
   "source": [
    "# instatiate the model\n",
    "knn = KNeighborsClassifier(n_neighbors=2)\n",
    "\n",
    "# train the model \n",
    "knn.fit(x_train,y_train)  \n",
    "\n",
    "# perform prediction on x_test\n",
    "y_predict = knn.predict(x_test)\n",
    "y_predict\n",
    "\n",
    "# # check performance using accuracy\n",
    "print(\"knn accuracy:\",accuracy_score(y_test,y_predict))\n",
    "print(\"Mean squared error:\", mean_squared_error(y_test,y_predict))\n",
    "acc_2 = accuracy_score(y_test,y_predict)\n",
    "\n",
    "\n",
    "#Metrics\n",
    "cmatrix=confusion_matrix(y_test, y_predict)\n",
    "graph_confusion_matrix(cmatrix)\n",
    "\n",
    "print(\"Classification Report:\")\n",
    "c_report=classification_report(y_test,y_predict,output_dict=True)\n",
    "#print(c_report)\n",
    "knn_precision=c_report['weighted avg']['precision']\n",
    "knn_recall=c_report['weighted avg']['recall']\n",
    "knn_f1score=c_report['weighted avg']['f1-score']\n",
    "print()\n",
    "print(f\"Precision:{knn_precision:.3f}\\nRecall:{knn_recall:.3f}\\\n",
    "\\nf1-score:{knn_f1score:.3f}\")\n"
   ]
  },
  {
   "cell_type": "code",
   "execution_count": null,
   "metadata": {
    "id": "_EgFS7N119Y5"
   },
   "outputs": [],
   "source": []
  },
  {
   "cell_type": "markdown",
   "metadata": {
    "id": "JtxyMsQzJx7u"
   },
   "source": [
    "## Random forest"
   ]
  },
  {
   "cell_type": "code",
   "execution_count": 64,
   "metadata": {
    "colab": {
     "base_uri": "https://localhost:8080/",
     "height": 418
    },
    "id": "CkaM-2_TJudR",
    "outputId": "d10ffc1e-8453-439b-b4a2-9fdec57df94b"
   },
   "outputs": [
    {
     "name": "stdout",
     "output_type": "stream",
     "text": [
      "Random forest accuracy: 0.9951285889236631\n",
      "Mean squared error: 0.004871411076336917\n"
     ]
    },
    {
     "data": {
      "image/png": "[encoded data removed]",
      "text/plain": [
       "<Figure size 288x288 with 1 Axes>"
      ]
     },
     "metadata": {
      "needs_background": "light"
     },
     "output_type": "display_data"
    },
    {
     "name": "stdout",
     "output_type": "stream",
     "text": [
      "Classification Report:\n",
      "\n",
      "Precision:0.995\n",
      "Recall:0.995\n",
      "f1-score:0.995\n"
     ]
    }
   ],
   "source": [
    " # build random forest classifier\n",
    "randomf = RandomForestClassifier(random_state=42)\n",
    "\n",
    "# train the model \n",
    "randomf.fit(x_train,y_train)       \n",
    "\n",
    "# perform prediction on x_test\n",
    "y_predicted=randomf.predict(x_test)\n",
    "y_predicted\n",
    "\n",
    "# check performance using accuracy\n",
    "print(\"Random forest accuracy:\",accuracy_score(y_test,y_predicted))\n",
    "print(\"Mean squared error:\", mean_squared_error(y_test,y_predicted))\n",
    "\n",
    "#Metrics\n",
    "cmatrix=confusion_matrix(y_test, y_predicted)\n",
    "graph_confusion_matrix(cmatrix)\n",
    "\n",
    "print(\"Classification Report:\")\n",
    "c_report=classification_report(y_test,y_predicted,output_dict=True)\n",
    "#print(c_report)\n",
    "rf_precision=c_report['weighted avg']['precision']\n",
    "rf_recall=c_report['weighted avg']['recall']\n",
    "rf_f1score=c_report['weighted avg']['f1-score']\n",
    "print()\n",
    "print(f\"Precision:{rf_precision:.3f}\\nRecall:{rf_recall:.3f}\\\n",
    "\\nf1-score:{rf_f1score:.3f}\")\n"
   ]
  },
  {
   "cell_type": "code",
   "execution_count": null,
   "metadata": {
    "id": "DOGV2hXjlw21"
   },
   "outputs": [],
   "source": []
  },
  {
   "cell_type": "markdown",
   "metadata": {
    "id": "3WmmARVWK49i"
   },
   "source": [
    "### Feature selection using forward feature selection"
   ]
  },
  {
   "cell_type": "code",
   "execution_count": 65,
   "metadata": {
    "colab": {
     "base_uri": "https://localhost:8080/"
    },
    "id": "E7tEhSXwmlOc",
    "outputId": "cf7218ef-c1b2-4a30-baa9-84f3026dab69"
   },
   "outputs": [
    {
     "name": "stderr",
     "output_type": "stream",
     "text": [
      "C:\\Users\\joshu\\AppData\\Local\\Temp\\ipykernel_28132\\1301834008.py:16: FutureWarning: The default dtype for empty Series will be 'object' instead of 'float64' in a future version. Specify a dtype explicitly to silence this warning.\n",
      "  new_pvalue = pd.Series(index=least_significant)\n",
      "C:\\Users\\joshu\\AppData\\Local\\Temp\\ipykernel_28132\\1301834008.py:16: FutureWarning: The default dtype for empty Series will be 'object' instead of 'float64' in a future version. Specify a dtype explicitly to silence this warning.\n",
      "  new_pvalue = pd.Series(index=least_significant)\n"
     ]
    },
    {
     "name": "stdout",
     "output_type": "stream",
     "text": [
      "Add Chlorine             with p-value 0.0\n",
      "Add Turbidity            with p-value 6.12573e-51\n"
     ]
    },
    {
     "name": "stderr",
     "output_type": "stream",
     "text": [
      "C:\\Users\\joshu\\AppData\\Local\\Temp\\ipykernel_28132\\1301834008.py:16: FutureWarning: The default dtype for empty Series will be 'object' instead of 'float64' in a future version. Specify a dtype explicitly to silence this warning.\n",
      "  new_pvalue = pd.Series(index=least_significant)\n",
      "C:\\Users\\joshu\\anaconda3\\lib\\site-packages\\statsmodels\\regression\\linear_model.py:1918: RuntimeWarning: divide by zero encountered in double_scalars\n",
      "  return np.sqrt(eigvals[0]/eigvals[-1])\n"
     ]
    },
    {
     "name": "stdout",
     "output_type": "stream",
     "text": [
      "                            OLS Regression Results                            \n",
      "==============================================================================\n",
      "Dep. Variable:         DrinkableOrNot   R-squared:                       0.059\n",
      "Model:                            OLS   Adj. R-squared:                  0.059\n",
      "Method:                 Least Squares   F-statistic:                     3827.\n",
      "Date:                Thu, 20 Apr 2023   Prob (F-statistic):               0.00\n",
      "Time:                        21:04:52   Log-Likelihood:                 66998.\n",
      "No. Observations:              122481   AIC:                        -1.340e+05\n",
      "Df Residuals:                  122478   BIC:                        -1.340e+05\n",
      "Df Model:                           2                                         \n",
      "Covariance Type:            nonrobust                                         \n",
      "==============================================================================\n",
      "                 coef    std err          t      P>|t|      [0.025      0.975]\n",
      "------------------------------------------------------------------------------\n",
      "const          0.9787      0.000   2446.156      0.000       0.978       0.979\n",
      "Chlorine      -0.0352      0.000    -87.375      0.000      -0.036      -0.034\n",
      "Turbidity      0.0061      0.000     15.019      0.000       0.005       0.007\n",
      "Coliform            0          0        nan        nan           0           0\n",
      "==============================================================================\n",
      "Omnibus:                   136878.170   Durbin-Watson:                   1.878\n",
      "Prob(Omnibus):                  0.000   Jarque-Bera (JB):          7935834.451\n",
      "Skew:                          -6.082   Prob(JB):                         0.00\n",
      "Kurtosis:                      40.511   Cond. No.                          inf\n",
      "==============================================================================\n",
      "\n",
      "Notes:\n",
      "[1] Standard Errors assume that the covariance matrix of the errors is correctly specified.\n",
      "[2] The smallest eigenvalue is      0. This might indicate that there are\n",
      "strong multicollinearity problems or that the design matrix is singular.\n"
     ]
    }
   ],
   "source": [
    "#forward regression method from https://github.com/AakkashVijayakumar/stepwise-regression/blob/master/stepwise_regression/step_reg.py\n",
    "# defining dependent and independent variables \n",
    "x  # independent variables\n",
    "y = df['DrinkableOrNot']       # the last variable as independent variable\n",
    "\n",
    "selected_features=[]\n",
    "\n",
    "# forward selection\n",
    "def forward_regression(X, y, verbose=False):\n",
    "                       \n",
    "    top_variable = []               # keeps the most significant variables\n",
    "    \n",
    "    while True:\n",
    "        changed=False\n",
    "        least_significant = list(set(X.columns)-set(top_variable))      # the least significant variables\n",
    "        new_pvalue = pd.Series(index=least_significant)\n",
    "        for values in least_significant:\n",
    "            model = sm.OLS(y, sm.add_constant(pd.DataFrame(X[top_variable+[values]]))).fit() \n",
    "            new_pvalue[values] = model.pvalues[values]\n",
    "        best_pvalue = new_pvalue.min()\n",
    "        if best_pvalue < 0.05:                 # the best pvalue is the pvalue with less than 0.05 threshold\n",
    "            best_variable = new_pvalue.idxmin()\n",
    "            top_variable.append(best_variable)\n",
    "            changed=True\n",
    "            if True:\n",
    "                print('Add {:20} with p-value {:.6}'.format(best_variable, best_pvalue))\n",
    "                selected_features.append(best_variable) #storing the added feature\n",
    "\n",
    "        if not changed:\n",
    "            break\n",
    "    print(model.summary())\n",
    "\n",
    "forward_regression(x,y,verbose=True)"
   ]
  },
  {
   "cell_type": "markdown",
   "metadata": {
    "id": "KEheXGP63AL0"
   },
   "source": [
    "# Model Training After Feature Selection"
   ]
  },
  {
   "cell_type": "code",
   "execution_count": 66,
   "metadata": {
    "id": "TR1bHfCZ3TVI"
   },
   "outputs": [],
   "source": [
    "# defining the independent and dependent variables\n",
    "x = df_copy.iloc[:,:2]  # independent variables   - Choose only Chlorine and Turbidity\n",
    "\n",
    "y = df_copy['DrinkableOrNot']"
   ]
  },
  {
   "cell_type": "code",
   "execution_count": 67,
   "metadata": {
    "colab": {
     "base_uri": "https://localhost:8080/",
     "height": 424
    },
    "id": "rMke1qjh3eVs",
    "outputId": "58f6600c-e8d5-49ae-d4da-7a41b7079e6e"
   },
   "outputs": [
    {
     "data": {
      "text/html": [
       "<div>\n",
       "<style scoped>\n",
       "    .dataframe tbody tr th:only-of-type {\n",
       "        vertical-align: middle;\n",
       "    }\n",
       "\n",
       "    .dataframe tbody tr th {\n",
       "        vertical-align: top;\n",
       "    }\n",
       "\n",
       "    .dataframe thead th {\n",
       "        text-align: right;\n",
       "    }\n",
       "</style>\n",
       "<table border=\"1\" class=\"dataframe\">\n",
       "  <thead>\n",
       "    <tr style=\"text-align: right;\">\n",
       "      <th></th>\n",
       "      <th>Chlorine</th>\n",
       "      <th>Turbidity</th>\n",
       "    </tr>\n",
       "  </thead>\n",
       "  <tbody>\n",
       "    <tr>\n",
       "      <th>0</th>\n",
       "      <td>0.22</td>\n",
       "      <td>0.8</td>\n",
       "    </tr>\n",
       "    <tr>\n",
       "      <th>1</th>\n",
       "      <td>0.69</td>\n",
       "      <td>0.8</td>\n",
       "    </tr>\n",
       "    <tr>\n",
       "      <th>2</th>\n",
       "      <td>0.55</td>\n",
       "      <td>0.8</td>\n",
       "    </tr>\n",
       "    <tr>\n",
       "      <th>3</th>\n",
       "      <td>0.87</td>\n",
       "      <td>0.8</td>\n",
       "    </tr>\n",
       "    <tr>\n",
       "      <th>4</th>\n",
       "      <td>0.80</td>\n",
       "      <td>0.8</td>\n",
       "    </tr>\n",
       "    <tr>\n",
       "      <th>...</th>\n",
       "      <td>...</td>\n",
       "      <td>...</td>\n",
       "    </tr>\n",
       "    <tr>\n",
       "      <th>122476</th>\n",
       "      <td>0.24</td>\n",
       "      <td>0.9</td>\n",
       "    </tr>\n",
       "    <tr>\n",
       "      <th>122477</th>\n",
       "      <td>0.44</td>\n",
       "      <td>1.1</td>\n",
       "    </tr>\n",
       "    <tr>\n",
       "      <th>122478</th>\n",
       "      <td>0.33</td>\n",
       "      <td>0.9</td>\n",
       "    </tr>\n",
       "    <tr>\n",
       "      <th>122479</th>\n",
       "      <td>0.52</td>\n",
       "      <td>1.0</td>\n",
       "    </tr>\n",
       "    <tr>\n",
       "      <th>122480</th>\n",
       "      <td>0.56</td>\n",
       "      <td>1.0</td>\n",
       "    </tr>\n",
       "  </tbody>\n",
       "</table>\n",
       "<p>122481 rows × 2 columns</p>\n",
       "</div>"
      ],
      "text/plain": [
       "        Chlorine  Turbidity\n",
       "0           0.22        0.8\n",
       "1           0.69        0.8\n",
       "2           0.55        0.8\n",
       "3           0.87        0.8\n",
       "4           0.80        0.8\n",
       "...          ...        ...\n",
       "122476      0.24        0.9\n",
       "122477      0.44        1.1\n",
       "122478      0.33        0.9\n",
       "122479      0.52        1.0\n",
       "122480      0.56        1.0\n",
       "\n",
       "[122481 rows x 2 columns]"
      ]
     },
     "execution_count": 67,
     "metadata": {},
     "output_type": "execute_result"
    }
   ],
   "source": [
    "x"
   ]
  },
  {
   "cell_type": "code",
   "execution_count": 68,
   "metadata": {
    "colab": {
     "base_uri": "https://localhost:8080/"
    },
    "id": "TkM1liH_3t9J",
    "outputId": "864c1902-8f6c-4209-a259-f0ed1819e750"
   },
   "outputs": [
    {
     "data": {
      "text/plain": [
       "0         1\n",
       "1         1\n",
       "2         1\n",
       "3         1\n",
       "4         1\n",
       "         ..\n",
       "122476    1\n",
       "122477    1\n",
       "122478    1\n",
       "122479    1\n",
       "122480    1\n",
       "Name: DrinkableOrNot, Length: 122481, dtype: int64"
      ]
     },
     "execution_count": 68,
     "metadata": {},
     "output_type": "execute_result"
    }
   ],
   "source": [
    "y"
   ]
  },
  {
   "cell_type": "code",
   "execution_count": 69,
   "metadata": {
    "colab": {
     "base_uri": "https://localhost:8080/"
    },
    "id": "gXoqIPRw3Ge2",
    "outputId": "52222c6d-96b8-48bb-f358-91e23b9bb19b"
   },
   "outputs": [
    {
     "data": {
      "text/plain": [
       "((85736, 2), (36745, 2), (85736,), (36745,))"
      ]
     },
     "execution_count": 69,
     "metadata": {},
     "output_type": "execute_result"
    }
   ],
   "source": [
    "# split the data for training and testing using train_test_split\n",
    "x_train,x_test,y_train,y_test=train_test_split(x,y,test_size=0.3) # 70% training set and 30% test set\n",
    "\n",
    "# getting the shape of the splitted data\n",
    "x_train.shape, x_test.shape, y_train.shape, y_test.shape"
   ]
  },
  {
   "cell_type": "markdown",
   "metadata": {
    "id": "N7RNlwtU30ow"
   },
   "source": [
    "# Logistic Regression - After Feature Selection\n"
   ]
  },
  {
   "cell_type": "code",
   "execution_count": 70,
   "metadata": {
    "colab": {
     "base_uri": "https://localhost:8080/",
     "height": 418
    },
    "id": "KZmSD4sA3F0N",
    "outputId": "f477d2d8-a3c5-4fe8-e313-89521533d4ef"
   },
   "outputs": [
    {
     "name": "stdout",
     "output_type": "stream",
     "text": [
      "Logistic regression accuracy: 0.9811402911960811\n",
      "Mean squared error: 0.0188597088039189\n"
     ]
    },
    {
     "data": {
      "image/png": "[encoded data removed]",
      "text/plain": [
       "<Figure size 288x288 with 1 Axes>"
      ]
     },
     "metadata": {
      "needs_background": "light"
     },
     "output_type": "display_data"
    },
    {
     "name": "stdout",
     "output_type": "stream",
     "text": [
      "Classification Report:\n",
      "\n",
      "Precision:0.981\n",
      "Recall:0.981\n",
      "f1-score:0.974\n"
     ]
    }
   ],
   "source": [
    "# instatiate the model\n",
    "log_reg = LogisticRegression()\n",
    "\n",
    "# train the model \n",
    "log_reg.fit(x_train,y_train)  \n",
    "\n",
    "# perform prediction on x_test\n",
    "y_pred = log_reg.predict(x_test)\n",
    "y_pred\n",
    "\n",
    "# check performance using accuracy\n",
    "print(\"Logistic regression accuracy:\", accuracy_score(y_test,y_pred))\n",
    "print(\"Mean squared error:\", mean_squared_error(y_test,y_pred))\n",
    "\n",
    "#Metrics\n",
    "cmatrix=confusion_matrix(y_test, y_pred)\n",
    "graph_confusion_matrix(cmatrix)\n",
    "\n",
    "print(\"Classification Report:\")\n",
    "c_report=classification_report(y_test,y_pred,output_dict=True)\n",
    "#print(c_report)\n",
    "logistic_regression_precision=c_report['weighted avg']['precision']\n",
    "logistic_regression_recall=c_report['weighted avg']['recall']\n",
    "logistic_regression_f1score=c_report['weighted avg']['f1-score']\n",
    "print()\n",
    "print(f\"Precision:{logistic_regression_precision:.3f}\\nRecall:{logistic_regression_recall:.3f}\\\n",
    "\\nf1-score:{logistic_regression_f1score:.3f}\")\n"
   ]
  },
  {
   "cell_type": "markdown",
   "metadata": {
    "id": "rugI_ike4BPT"
   },
   "source": [
    "# KNN - After Feature Selection"
   ]
  },
  {
   "cell_type": "code",
   "execution_count": 71,
   "metadata": {
    "colab": {
     "base_uri": "https://localhost:8080/",
     "height": 418
    },
    "id": "ZkSKHkRV3F-c",
    "outputId": "b865893b-4c3b-4340-df90-0a0c2e54ebfb"
   },
   "outputs": [
    {
     "name": "stdout",
     "output_type": "stream",
     "text": [
      "knn accuracy: 0.9860661314464553\n",
      "Mean squared error: 0.0139338685535447\n"
     ]
    },
    {
     "data": {
      "image/png": "[encoded data removed]",
      "text/plain": [
       "<Figure size 288x288 with 1 Axes>"
      ]
     },
     "metadata": {
      "needs_background": "light"
     },
     "output_type": "display_data"
    },
    {
     "name": "stdout",
     "output_type": "stream",
     "text": [
      "Classification Report:\n",
      "\n",
      "Precision:0.988\n",
      "Recall:0.986\n",
      "f1-score:0.987\n"
     ]
    }
   ],
   "source": [
    "# instatiate the model\n",
    "knn = KNeighborsClassifier(n_neighbors=2)\n",
    "\n",
    "# train the model \n",
    "knn.fit(x_train,y_train)  \n",
    "\n",
    "# perform prediction on x_test\n",
    "y_predict = knn.predict(x_test)\n",
    "y_predict\n",
    "\n",
    "# # check performance using accuracy\n",
    "print(\"knn accuracy:\",accuracy_score(y_test,y_predict))\n",
    "print(\"Mean squared error:\", mean_squared_error(y_test,y_predict))\n",
    "\n",
    "#Metrics\n",
    "cmatrix=confusion_matrix(y_test, y_predict)\n",
    "graph_confusion_matrix(cmatrix)\n",
    "\n",
    "print(\"Classification Report:\")\n",
    "c_report=classification_report(y_test,y_predict,output_dict=True)\n",
    "#print(c_report)\n",
    "knn_precision=c_report['weighted avg']['precision']\n",
    "knn_recall=c_report['weighted avg']['recall']\n",
    "knn_f1score=c_report['weighted avg']['f1-score']\n",
    "print()\n",
    "print(f\"Precision:{knn_precision:.3f}\\nRecall:{knn_recall:.3f}\\\n",
    "\\nf1-score:{knn_f1score:.3f}\")\n"
   ]
  },
  {
   "cell_type": "markdown",
   "metadata": {
    "id": "i3jQ6OHQ4MVH"
   },
   "source": [
    "# Random Forest - After Feature Selection"
   ]
  },
  {
   "cell_type": "code",
   "execution_count": 72,
   "metadata": {
    "colab": {
     "base_uri": "https://localhost:8080/",
     "height": 418
    },
    "id": "Al8Ovc1e3GBU",
    "outputId": "5532b183-9c6a-4e8c-a3bc-ecb3236d0c5c"
   },
   "outputs": [
    {
     "name": "stdout",
     "output_type": "stream",
     "text": [
      "Random forest accuracy: 0.9944754388352157\n",
      "Mean squared error: 0.005524561164784324\n"
     ]
    },
    {
     "data": {
      "image/png": "[encoded data removed]",
      "text/plain": [
       "<Figure size 288x288 with 1 Axes>"
      ]
     },
     "metadata": {
      "needs_background": "light"
     },
     "output_type": "display_data"
    },
    {
     "name": "stdout",
     "output_type": "stream",
     "text": [
      "Classification Report:\n",
      "\n",
      "Precision:0.995\n",
      "Recall:0.994\n",
      "f1-score:0.994\n"
     ]
    }
   ],
   "source": [
    " # build random forest classifier\n",
    "randomf = RandomForestClassifier(random_state=42)\n",
    "\n",
    "# train the model \n",
    "randomf.fit(x_train,y_train)       \n",
    "\n",
    "# perform prediction on x_test\n",
    "y_predicted=randomf.predict(x_test)\n",
    "y_predicted\n",
    "\n",
    "# check performance using accuracy\n",
    "print(\"Random forest accuracy:\",accuracy_score(y_test,y_predicted))\n",
    "print(\"Mean squared error:\", mean_squared_error(y_test,y_predicted))\n",
    "\n",
    "#Metrics\n",
    "cmatrix=confusion_matrix(y_test, y_predicted)\n",
    "graph_confusion_matrix(cmatrix)\n",
    "\n",
    "print(\"Classification Report:\")\n",
    "c_report=classification_report(y_test,y_predicted,output_dict=True)\n",
    "#print(c_report)\n",
    "rf_precision=c_report['weighted avg']['precision']\n",
    "rf_recall=c_report['weighted avg']['recall']\n",
    "rf_f1score=c_report['weighted avg']['f1-score']\n",
    "print()\n",
    "print(f\"Precision:{rf_precision:.3f}\\nRecall:{rf_recall:.3f}\\\n",
    "\\nf1-score:{rf_f1score:.3f}\")\n"
   ]
  },
  {
   "cell_type": "markdown",
   "metadata": {
    "id": "9XPfwp-ZrIe6"
   },
   "source": [
    "# Unsupervised Learning - Attempting to learn the classes\n"
   ]
  },
  {
   "cell_type": "code",
   "execution_count": 73,
   "metadata": {
    "colab": {
     "base_uri": "https://localhost:8080/",
     "height": 424
    },
    "id": "zUo5St5xrFS_",
    "outputId": "1f5ebbf4-b3a2-4f47-8f7e-105806d2d510"
   },
   "outputs": [
    {
     "data": {
      "text/html": [
       "<div>\n",
       "<style scoped>\n",
       "    .dataframe tbody tr th:only-of-type {\n",
       "        vertical-align: middle;\n",
       "    }\n",
       "\n",
       "    .dataframe tbody tr th {\n",
       "        vertical-align: top;\n",
       "    }\n",
       "\n",
       "    .dataframe thead th {\n",
       "        text-align: right;\n",
       "    }\n",
       "</style>\n",
       "<table border=\"1\" class=\"dataframe\">\n",
       "  <thead>\n",
       "    <tr style=\"text-align: right;\">\n",
       "      <th></th>\n",
       "      <th>Chlorine</th>\n",
       "      <th>Turbidity</th>\n",
       "    </tr>\n",
       "  </thead>\n",
       "  <tbody>\n",
       "    <tr>\n",
       "      <th>0</th>\n",
       "      <td>0.22</td>\n",
       "      <td>0.8</td>\n",
       "    </tr>\n",
       "    <tr>\n",
       "      <th>1</th>\n",
       "      <td>0.69</td>\n",
       "      <td>0.8</td>\n",
       "    </tr>\n",
       "    <tr>\n",
       "      <th>2</th>\n",
       "      <td>0.55</td>\n",
       "      <td>0.8</td>\n",
       "    </tr>\n",
       "    <tr>\n",
       "      <th>3</th>\n",
       "      <td>0.87</td>\n",
       "      <td>0.8</td>\n",
       "    </tr>\n",
       "    <tr>\n",
       "      <th>4</th>\n",
       "      <td>0.80</td>\n",
       "      <td>0.8</td>\n",
       "    </tr>\n",
       "    <tr>\n",
       "      <th>...</th>\n",
       "      <td>...</td>\n",
       "      <td>...</td>\n",
       "    </tr>\n",
       "    <tr>\n",
       "      <th>122476</th>\n",
       "      <td>0.24</td>\n",
       "      <td>0.9</td>\n",
       "    </tr>\n",
       "    <tr>\n",
       "      <th>122477</th>\n",
       "      <td>0.44</td>\n",
       "      <td>1.1</td>\n",
       "    </tr>\n",
       "    <tr>\n",
       "      <th>122478</th>\n",
       "      <td>0.33</td>\n",
       "      <td>0.9</td>\n",
       "    </tr>\n",
       "    <tr>\n",
       "      <th>122479</th>\n",
       "      <td>0.52</td>\n",
       "      <td>1.0</td>\n",
       "    </tr>\n",
       "    <tr>\n",
       "      <th>122480</th>\n",
       "      <td>0.56</td>\n",
       "      <td>1.0</td>\n",
       "    </tr>\n",
       "  </tbody>\n",
       "</table>\n",
       "<p>122481 rows × 2 columns</p>\n",
       "</div>"
      ],
      "text/plain": [
       "        Chlorine  Turbidity\n",
       "0           0.22        0.8\n",
       "1           0.69        0.8\n",
       "2           0.55        0.8\n",
       "3           0.87        0.8\n",
       "4           0.80        0.8\n",
       "...          ...        ...\n",
       "122476      0.24        0.9\n",
       "122477      0.44        1.1\n",
       "122478      0.33        0.9\n",
       "122479      0.52        1.0\n",
       "122480      0.56        1.0\n",
       "\n",
       "[122481 rows x 2 columns]"
      ]
     },
     "execution_count": 73,
     "metadata": {},
     "output_type": "execute_result"
    }
   ],
   "source": [
    "x"
   ]
  },
  {
   "cell_type": "code",
   "execution_count": null,
   "metadata": {
    "colab": {
     "base_uri": "https://localhost:8080/",
     "height": 424
    },
    "id": "pUkEk8D2L87R",
    "outputId": "64d5958a-c503-447a-9fc6-9e81ac3242c3"
   },
   "outputs": [
    {
     "data": {
      "text/html": [
       "\n",
       "  <div id=\"df-0eff9964-d5a9-4db6-b388-f2108333c6ec\">\n",
       "    <div class=\"colab-df-container\">\n",
       "      <div>\n",
       "<style scoped>\n",
       "    .dataframe tbody tr th:only-of-type {\n",
       "        vertical-align: middle;\n",
       "    }\n",
       "\n",
       "    .dataframe tbody tr th {\n",
       "        vertical-align: top;\n",
       "    }\n",
       "\n",
       "    .dataframe thead th {\n",
       "        text-align: right;\n",
       "    }\n",
       "</style>\n",
       "<table border=\"1\" class=\"dataframe\">\n",
       "  <thead>\n",
       "    <tr style=\"text-align: right;\">\n",
       "      <th></th>\n",
       "      <th>Chlorine</th>\n",
       "      <th>Turbidity</th>\n",
       "      <th>Coliform</th>\n",
       "      <th>E.Coli</th>\n",
       "    </tr>\n",
       "  </thead>\n",
       "  <tbody>\n",
       "    <tr>\n",
       "      <th>0</th>\n",
       "      <td>-1.644708</td>\n",
       "      <td>0.413039</td>\n",
       "      <td>0.0</td>\n",
       "      <td>0.0</td>\n",
       "    </tr>\n",
       "    <tr>\n",
       "      <th>1</th>\n",
       "      <td>0.566872</td>\n",
       "      <td>0.413039</td>\n",
       "      <td>0.0</td>\n",
       "      <td>0.0</td>\n",
       "    </tr>\n",
       "    <tr>\n",
       "      <th>2</th>\n",
       "      <td>-0.091897</td>\n",
       "      <td>0.413039</td>\n",
       "      <td>0.0</td>\n",
       "      <td>0.0</td>\n",
       "    </tr>\n",
       "    <tr>\n",
       "      <th>3</th>\n",
       "      <td>1.413860</td>\n",
       "      <td>0.413039</td>\n",
       "      <td>0.0</td>\n",
       "      <td>0.0</td>\n",
       "    </tr>\n",
       "    <tr>\n",
       "      <th>4</th>\n",
       "      <td>1.084475</td>\n",
       "      <td>0.413039</td>\n",
       "      <td>0.0</td>\n",
       "      <td>0.0</td>\n",
       "    </tr>\n",
       "    <tr>\n",
       "      <th>...</th>\n",
       "      <td>...</td>\n",
       "      <td>...</td>\n",
       "      <td>...</td>\n",
       "      <td>...</td>\n",
       "    </tr>\n",
       "    <tr>\n",
       "      <th>122476</th>\n",
       "      <td>-1.550599</td>\n",
       "      <td>1.073750</td>\n",
       "      <td>0.0</td>\n",
       "      <td>0.0</td>\n",
       "    </tr>\n",
       "    <tr>\n",
       "      <th>122477</th>\n",
       "      <td>-0.609501</td>\n",
       "      <td>2.395174</td>\n",
       "      <td>0.0</td>\n",
       "      <td>0.0</td>\n",
       "    </tr>\n",
       "    <tr>\n",
       "      <th>122478</th>\n",
       "      <td>-1.127105</td>\n",
       "      <td>1.073750</td>\n",
       "      <td>0.0</td>\n",
       "      <td>0.0</td>\n",
       "    </tr>\n",
       "    <tr>\n",
       "      <th>122479</th>\n",
       "      <td>-0.233062</td>\n",
       "      <td>1.734462</td>\n",
       "      <td>0.0</td>\n",
       "      <td>0.0</td>\n",
       "    </tr>\n",
       "    <tr>\n",
       "      <th>122480</th>\n",
       "      <td>-0.044842</td>\n",
       "      <td>1.734462</td>\n",
       "      <td>0.0</td>\n",
       "      <td>0.0</td>\n",
       "    </tr>\n",
       "  </tbody>\n",
       "</table>\n",
       "<p>122481 rows × 4 columns</p>\n",
       "</div>\n",
       "      <button class=\"colab-df-convert\" onclick=\"convertToInteractive('df-0eff9964-d5a9-4db6-b388-f2108333c6ec')\"\n",
       "              title=\"Convert this dataframe to an interactive table.\"\n",
       "              style=\"display:none;\">\n",
       "        \n",
       "  <svg xmlns=\"http://www.w3.org/2000/svg\" height=\"24px\"viewBox=\"0 0 24 24\"\n",
       "       width=\"24px\">\n",
       "    <path d=\"M0 0h24v24H0V0z\" fill=\"none\"/>\n",
       "    <path d=\"M18.56 5.44l.94 2.06.94-2.06 2.06-.94-2.06-.94-.94-2.06-.94 2.06-2.06.94zm-11 1L8.5 8.5l.94-2.06 2.06-.94-2.06-.94L8.5 2.5l-.94 2.06-2.06.94zm10 10l.94 2.06.94-2.06 2.06-.94-2.06-.94-.94-2.06-.94 2.06-2.06.94z\"/><path d=\"M17.41 7.96l-1.37-1.37c-.4-.4-.92-.59-1.43-.59-.52 0-1.04.2-1.43.59L10.3 9.45l-7.72 7.72c-.78.78-.78 2.05 0 2.83L4 21.41c.39.39.9.59 1.41.59.51 0 1.02-.2 1.41-.59l7.78-7.78 2.81-2.81c.8-.78.8-2.07 0-2.86zM5.41 20L4 18.59l7.72-7.72 1.47 1.35L5.41 20z\"/>\n",
       "  </svg>\n",
       "      </button>\n",
       "      \n",
       "  <style>\n",
       "    .colab-df-container {\n",
       "      display:flex;\n",
       "      flex-wrap:wrap;\n",
       "      gap: 12px;\n",
       "    }\n",
       "\n",
       "    .colab-df-convert {\n",
       "      background-color: #E8F0FE;\n",
       "      border: none;\n",
       "      border-radius: 50%;\n",
       "      cursor: pointer;\n",
       "      display: none;\n",
       "      fill: #1967D2;\n",
       "      height: 32px;\n",
       "      padding: 0 0 0 0;\n",
       "      width: 32px;\n",
       "    }\n",
       "\n",
       "    .colab-df-convert:hover {\n",
       "      background-color: #E2EBFA;\n",
       "      box-shadow: 0px 1px 2px rgba(60, 64, 67, 0.3), 0px 1px 3px 1px rgba(60, 64, 67, 0.15);\n",
       "      fill: #174EA6;\n",
       "    }\n",
       "\n",
       "    [theme=dark] .colab-df-convert {\n",
       "      background-color: #3B4455;\n",
       "      fill: #D2E3FC;\n",
       "    }\n",
       "\n",
       "    [theme=dark] .colab-df-convert:hover {\n",
       "      background-color: #434B5C;\n",
       "      box-shadow: 0px 1px 3px 1px rgba(0, 0, 0, 0.15);\n",
       "      filter: drop-shadow(0px 1px 2px rgba(0, 0, 0, 0.3));\n",
       "      fill: #FFFFFF;\n",
       "    }\n",
       "  </style>\n",
       "\n",
       "      <script>\n",
       "        const buttonEl =\n",
       "          document.querySelector('#df-0eff9964-d5a9-4db6-b388-f2108333c6ec button.colab-df-convert');\n",
       "        buttonEl.style.display =\n",
       "          google.colab.kernel.accessAllowed ? 'block' : 'none';\n",
       "\n",
       "        async function convertToInteractive(key) {\n",
       "          const element = document.querySelector('#df-0eff9964-d5a9-4db6-b388-f2108333c6ec');\n",
       "          const dataTable =\n",
       "            await google.colab.kernel.invokeFunction('convertToInteractive',\n",
       "                                                     [key], {});\n",
       "          if (!dataTable) return;\n",
       "\n",
       "          const docLinkHtml = 'Like what you see? Visit the ' +\n",
       "            '<a target=\"_blank\" href=https://colab.research.google.com/notebooks/data_table.ipynb>data table notebook</a>'\n",
       "            + ' to learn more about interactive tables.';\n",
       "          element.innerHTML = '';\n",
       "          dataTable['output_type'] = 'display_data';\n",
       "          await google.colab.output.renderOutput(dataTable, element);\n",
       "          const docLink = document.createElement('div');\n",
       "          docLink.innerHTML = docLinkHtml;\n",
       "          element.appendChild(docLink);\n",
       "        }\n",
       "      </script>\n",
       "    </div>\n",
       "  </div>\n",
       "  "
      ],
      "text/plain": [
       "        Chlorine  Turbidity  Coliform  E.Coli\n",
       "0      -1.644708   0.413039       0.0     0.0\n",
       "1       0.566872   0.413039       0.0     0.0\n",
       "2      -0.091897   0.413039       0.0     0.0\n",
       "3       1.413860   0.413039       0.0     0.0\n",
       "4       1.084475   0.413039       0.0     0.0\n",
       "...          ...        ...       ...     ...\n",
       "122476 -1.550599   1.073750       0.0     0.0\n",
       "122477 -0.609501   2.395174       0.0     0.0\n",
       "122478 -1.127105   1.073750       0.0     0.0\n",
       "122479 -0.233062   1.734462       0.0     0.0\n",
       "122480 -0.044842   1.734462       0.0     0.0\n",
       "\n",
       "[122481 rows x 4 columns]"
      ]
     },
     "execution_count": 177,
     "metadata": {},
     "output_type": "execute_result"
    }
   ],
   "source": [
    "# Scale the data using StandardScaler --> To use unsupervised machine learning models, we need to perform standard scaling\n",
    "\n",
    "scaler = StandardScaler()\n",
    "scaled_data = scaler.fit_transform(x)\n",
    "\n",
    "x"
   ]
  },
  {
   "cell_type": "markdown",
   "metadata": {
    "id": "k1TRoNIaez6J"
   },
   "source": [
    "\n",
    "\n",
    "# K-Means Clustering"
   ]
  },
  {
   "cell_type": "code",
   "execution_count": null,
   "metadata": {
    "id": "JS_GL6puMPv7"
   },
   "outputs": [],
   "source": [
    "# Utility Functions\n",
    "\n",
    "def plotSilhouette(data,k):\n",
    "    model = SilhouetteVisualizer(KMeans(n_clusters=k),colors='yellowbrick')\n",
    "    model.fit(data)\n",
    "    model.show()\n",
    "\n",
    "\n",
    "def plotElbow(data,metric):\n",
    "    model=KMeans()\n",
    "    visualizer=KElbowVisualizer(model, k=(2,15), metric=metric, timings=True)\n",
    "    visualizer.fit(data)\n",
    "    visualizer.show()\n"
   ]
  },
  {
   "cell_type": "markdown",
   "metadata": {
    "id": "jxE2C5czfEMP"
   },
   "source": [
    "Deciding on the Number of Clusters"
   ]
  },
  {
   "cell_type": "code",
   "execution_count": null,
   "metadata": {
    "colab": {
     "base_uri": "https://localhost:8080/",
     "height": 403
    },
    "id": "ucuRczVfvyBK",
    "outputId": "791e3696-d31c-4cb5-b68f-5139419e554a"
   },
   "outputs": [
    {
     "data": {
      "image/png": "[encoded data removed]",
      "text/plain": [
       "<Figure size 720x432 with 2 Axes>"
      ]
     },
     "metadata": {},
     "output_type": "display_data"
    }
   ],
   "source": [
    "#metric='silhouette'\n",
    "#metric='calinski_harabasz'\n",
    "\n",
    "metric='distortion'\n",
    "plotElbow(x,metric)"
   ]
  },
  {
   "cell_type": "code",
   "execution_count": null,
   "metadata": {
    "colab": {
     "base_uri": "https://localhost:8080/",
     "height": 403
    },
    "id": "JPzAmfXg1M66",
    "outputId": "92ed9a99-9468-4659-998a-22358671e4bb"
   },
   "outputs": [
    {
     "data": {
      "image/png": "[encoded data removed]",
      "text/plain": [
       "<Figure size 720x432 with 2 Axes>"
      ]
     },
     "metadata": {},
     "output_type": "display_data"
    }
   ],
   "source": [
    "#metric='silhouette'\n",
    "metric='calinski_harabasz'\n",
    "#metric='distortion'\n",
    "plotElbow(x,metric)"
   ]
  },
  {
   "cell_type": "code",
   "execution_count": null,
   "metadata": {
    "colab": {
     "base_uri": "https://localhost:8080/",
     "height": 1000
    },
    "id": "KHLyvOZkgPTY",
    "outputId": "600f558d-6636-41ce-a387-2aed8634b030"
   },
   "outputs": [
    {
     "data": {
      "image/png": "[encoded data removed]",
      "text/plain": [
       "<Figure size 720x432 with 1 Axes>"
      ]
     },
     "metadata": {},
     "output_type": "display_data"
    },
    {
     "data": {
      "image/png": "[encoded data removed]",
      "text/plain": [
       "<Figure size 720x432 with 1 Axes>"
      ]
     },
     "metadata": {},
     "output_type": "display_data"
    },
    {
     "data": {
      "image/png": "[encoded data removed]",
      "text/plain": [
       "<Figure size 720x432 with 1 Axes>"
      ]
     },
     "metadata": {},
     "output_type": "display_data"
    },
    {
     "data": {
      "image/png": "[encoded data removed]",
      "text/plain": [
       "<Figure size 720x432 with 1 Axes>"
      ]
     },
     "metadata": {},
     "output_type": "display_data"
    },
    {
     "data": {
      "image/png": "[encoded data removed]",
      "text/plain": [
       "<Figure size 720x432 with 1 Axes>"
      ]
     },
     "metadata": {},
     "output_type": "display_data"
    },
    {
     "data": {
      "image/png": "[encoded data removed]",
      "text/plain": [
       "<Figure size 720x432 with 1 Axes>"
      ]
     },
     "metadata": {},
     "output_type": "display_data"
    }
   ],
   "source": [
    "for k in range(2,8):\n",
    "    plotSilhouette(x,k)"
   ]
  },
  {
   "cell_type": "markdown",
   "metadata": {
    "id": "QdeS4KyRgrdk"
   },
   "source": [
    "# Perfom clustering using K-Means\n"
   ]
  },
  {
   "cell_type": "code",
   "execution_count": null,
   "metadata": {
    "id": "e0GxGX-hgPbt"
   },
   "outputs": [],
   "source": [
    "kmeans = KMeans(n_clusters=3, random_state=42)\n",
    "cluster_labels = kmeans.fit_predict(x)\n",
    "x[\"clusters\"] = cluster_labels"
   ]
  },
  {
   "cell_type": "code",
   "execution_count": null,
   "metadata": {
    "colab": {
     "base_uri": "https://localhost:8080/"
    },
    "id": "MQkBekAlgPes",
    "outputId": "3660b60e-fd1c-4223-ddc3-212246d001a5"
   },
   "outputs": [
    {
     "data": {
      "text/plain": [
       "array([1, 0, 2, ..., 2, 2, 2], dtype=int32)"
      ]
     },
     "execution_count": 185,
     "metadata": {},
     "output_type": "execute_result"
    }
   ],
   "source": [
    "cluster_labels"
   ]
  },
  {
   "cell_type": "code",
   "execution_count": null,
   "metadata": {
    "colab": {
     "base_uri": "https://localhost:8080/"
    },
    "id": "HYabyH97gPhf",
    "outputId": "2489ed9a-72b4-45fd-eec4-a4f4f3c9a28a"
   },
   "outputs": [
    {
     "name": "stdout",
     "output_type": "stream",
     "text": [
      "0.5015847481834738\n"
     ]
    }
   ],
   "source": [
    "# Calculate silhouette_score\n",
    "print(silhouette_score(x, kmeans.labels_))"
   ]
  },
  {
   "cell_type": "code",
   "execution_count": null,
   "metadata": {
    "id": "dwSp0akqgPkK"
   },
   "outputs": [],
   "source": [
    "kmeans = KMeans(n_clusters=2, random_state=42)\n",
    "cluster_labels = kmeans.fit_predict(x)\n",
    "x[\"clusters\"] = cluster_labels"
   ]
  },
  {
   "cell_type": "code",
   "execution_count": null,
   "metadata": {
    "colab": {
     "base_uri": "https://localhost:8080/"
    },
    "id": "__jIQOnmgPm9",
    "outputId": "51fb85f3-b99c-4c13-8166-54f3ef2e6366"
   },
   "outputs": [
    {
     "name": "stdout",
     "output_type": "stream",
     "text": [
      "0.38109871772213755\n"
     ]
    }
   ],
   "source": [
    "# Calculate silhouette_score\n",
    "print(silhouette_score(x, kmeans.labels_))"
   ]
  },
  {
   "cell_type": "code",
   "execution_count": null,
   "metadata": {
    "id": "r5SJUKw9gPqS"
   },
   "outputs": [],
   "source": []
  }
 ],
 "metadata": {
  "colab": {
   "provenance": []
  },
  "kernelspec": {
   "display_name": "Python 3 (ipykernel)",
   "language": "python",
   "name": "python3"
  },
  "language_info": {
   "codemirror_mode": {
    "name": "ipython",
    "version": 3
   },
   "file_extension": ".py",
   "mimetype": "text/x-python",
   "name": "python",
   "nbconvert_exporter": "python",
   "pygments_lexer": "ipython3",
   "version": "3.9.12"
  }
 },
 "nbformat": 4,
 "nbformat_minor": 1
}
